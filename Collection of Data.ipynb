{
 "cells": [
  {
   "cell_type": "markdown",
   "id": "0a393168-0f4a-4a92-96ca-fa29a374b6c5",
   "metadata": {},
   "source": [
    "# Parser_erroror "
   ]
  },
  {
   "cell_type": "code",
   "execution_count": 1,
   "id": "429e7ad6-17b8-4e62-ad3f-36e42398cf46",
   "metadata": {},
   "outputs": [],
   "source": [
    "import pandas as pd"
   ]
  },
  {
   "cell_type": "code",
   "execution_count": 2,
   "id": "1c1283f2-b8b7-4fc9-ae2d-aac8c3754fe0",
   "metadata": {},
   "outputs": [
    {
     "data": {
      "text/html": [
       "<div>\n",
       "<style scoped>\n",
       "    .dataframe tbody tr th:only-of-type {\n",
       "        vertical-align: middle;\n",
       "    }\n",
       "\n",
       "    .dataframe tbody tr th {\n",
       "        vertical-align: top;\n",
       "    }\n",
       "\n",
       "    .dataframe thead th {\n",
       "        text-align: right;\n",
       "    }\n",
       "</style>\n",
       "<table border=\"1\" class=\"dataframe\">\n",
       "  <thead>\n",
       "    <tr style=\"text-align: right;\">\n",
       "      <th></th>\n",
       "      <th>&lt;iris&gt;</th>\n",
       "    </tr>\n",
       "  </thead>\n",
       "  <tbody>\n",
       "    <tr>\n",
       "      <th>0</th>\n",
       "      <td>&lt;flower&gt;</td>\n",
       "    </tr>\n",
       "    <tr>\n",
       "      <th>1</th>\n",
       "      <td>&lt;sl&gt; 1.2  &lt;/sl&gt;</td>\n",
       "    </tr>\n",
       "    <tr>\n",
       "      <th>2</th>\n",
       "      <td>&lt;sw&gt; 5.7  &lt;/sw&gt;</td>\n",
       "    </tr>\n",
       "    <tr>\n",
       "      <th>3</th>\n",
       "      <td>&lt;pl&gt; 2.9  &lt;/pl&gt;</td>\n",
       "    </tr>\n",
       "    <tr>\n",
       "      <th>4</th>\n",
       "      <td>&lt;pw&gt; 7.9  &lt;/pw&gt;</td>\n",
       "    </tr>\n",
       "    <tr>\n",
       "      <th>5</th>\n",
       "      <td>&lt;/flower&gt;</td>\n",
       "    </tr>\n",
       "    <tr>\n",
       "      <th>6</th>\n",
       "      <td>&lt;/iris&gt;</td>\n",
       "    </tr>\n",
       "  </tbody>\n",
       "</table>\n",
       "</div>"
      ],
      "text/plain": [
       "            <iris>\n",
       "0         <flower>\n",
       "1  <sl> 1.2  </sl>\n",
       "2  <sw> 5.7  </sw>\n",
       "3  <pl> 2.9  </pl>\n",
       "4  <pw> 7.9  </pw>\n",
       "5        </flower>\n",
       "6          </iris>"
      ]
     },
     "execution_count": 2,
     "metadata": {},
     "output_type": "execute_result"
    }
   ],
   "source": [
    "pd.read_csv(r\"C:\\Users\\Harendra\\Downloads\\MLL.txt\")"
   ]
  },
  {
   "cell_type": "code",
   "execution_count": 9,
   "id": "80ce241f-2060-489c-845b-aa0251636a71",
   "metadata": {},
   "outputs": [
    {
     "data": {
      "text/html": [
       "<div>\n",
       "<style scoped>\n",
       "    .dataframe tbody tr th:only-of-type {\n",
       "        vertical-align: middle;\n",
       "    }\n",
       "\n",
       "    .dataframe tbody tr th {\n",
       "        vertical-align: top;\n",
       "    }\n",
       "\n",
       "    .dataframe thead th {\n",
       "        text-align: right;\n",
       "    }\n",
       "</style>\n",
       "<table border=\"1\" class=\"dataframe\">\n",
       "  <thead>\n",
       "    <tr style=\"text-align: right;\">\n",
       "      <th></th>\n",
       "      <th>Name</th>\n",
       "      <th>Age</th>\n",
       "    </tr>\n",
       "  </thead>\n",
       "  <tbody>\n",
       "    <tr>\n",
       "      <th>0</th>\n",
       "      <td>hari</td>\n",
       "      <td>23</td>\n",
       "    </tr>\n",
       "    <tr>\n",
       "      <th>1</th>\n",
       "      <td>anu</td>\n",
       "      <td>22</td>\n",
       "    </tr>\n",
       "    <tr>\n",
       "      <th>2</th>\n",
       "      <td>joshu</td>\n",
       "      <td>10</td>\n",
       "    </tr>\n",
       "  </tbody>\n",
       "</table>\n",
       "</div>"
      ],
      "text/plain": [
       "    Name  Age\n",
       "0   hari   23\n",
       "1    anu   22\n",
       "2  joshu   10"
      ]
     },
     "execution_count": 9,
     "metadata": {},
     "output_type": "execute_result"
    }
   ],
   "source": [
    "pd.read_csv(r\"C:\\Users\\Harendra\\Downloads\\MLL.txt\",on_bad_lines=\"skip\")\n",
    "## it will skip the total line which is having extra column"
   ]
  },
  {
   "cell_type": "code",
   "execution_count": 11,
   "id": "1add7f43-7213-42f7-ab10-6a09aff165b0",
   "metadata": {},
   "outputs": [
    {
     "name": "stderr",
     "output_type": "stream",
     "text": [
      "C:\\Users\\Harendra\\AppData\\Local\\Temp\\ipykernel_2200\\3909347324.py:1: ParserWarning: Skipping line 5: expected 2 fields, saw 3\n",
      "\n",
      "  pd.read_csv(r\"C:\\Users\\Harendra\\Downloads\\MLL.txt\",on_bad_lines=\"warn\")\n"
     ]
    },
    {
     "data": {
      "text/html": [
       "<div>\n",
       "<style scoped>\n",
       "    .dataframe tbody tr th:only-of-type {\n",
       "        vertical-align: middle;\n",
       "    }\n",
       "\n",
       "    .dataframe tbody tr th {\n",
       "        vertical-align: top;\n",
       "    }\n",
       "\n",
       "    .dataframe thead th {\n",
       "        text-align: right;\n",
       "    }\n",
       "</style>\n",
       "<table border=\"1\" class=\"dataframe\">\n",
       "  <thead>\n",
       "    <tr style=\"text-align: right;\">\n",
       "      <th></th>\n",
       "      <th>Name</th>\n",
       "      <th>Age</th>\n",
       "    </tr>\n",
       "  </thead>\n",
       "  <tbody>\n",
       "    <tr>\n",
       "      <th>0</th>\n",
       "      <td>hari</td>\n",
       "      <td>23</td>\n",
       "    </tr>\n",
       "    <tr>\n",
       "      <th>1</th>\n",
       "      <td>anu</td>\n",
       "      <td>22</td>\n",
       "    </tr>\n",
       "    <tr>\n",
       "      <th>2</th>\n",
       "      <td>joshu</td>\n",
       "      <td>10</td>\n",
       "    </tr>\n",
       "  </tbody>\n",
       "</table>\n",
       "</div>"
      ],
      "text/plain": [
       "    Name  Age\n",
       "0   hari   23\n",
       "1    anu   22\n",
       "2  joshu   10"
      ]
     },
     "execution_count": 11,
     "metadata": {},
     "output_type": "execute_result"
    }
   ],
   "source": [
    "pd.read_csv(r\"C:\\Users\\Harendra\\Downloads\\MLL.txt\",on_bad_lines=\"warn\")"
   ]
  },
  {
   "cell_type": "markdown",
   "id": "d04d9a62-28e5-463e-9a67-267088405fb3",
   "metadata": {},
   "source": [
    "# Encoding_error"
   ]
  },
  {
   "cell_type": "code",
   "execution_count": 39,
   "id": "92a2a4d6-4bdc-4b19-9467-690f209008dc",
   "metadata": {},
   "outputs": [],
   "source": [
    "l  = [\"uft-8\",\"latin\",\"uft_16\"]\n"
   ]
  },
  {
   "cell_type": "code",
   "execution_count": 145,
   "id": "3d4617e7-d076-49ec-a230-b9d128f8406b",
   "metadata": {},
   "outputs": [
    {
     "ename": "SyntaxError",
     "evalue": "invalid syntax (2404730157.py, line 1)",
     "output_type": "error",
     "traceback": [
      "\u001b[1;36m  Cell \u001b[1;32mIn[145], line 1\u001b[1;36m\u001b[0m\n\u001b[1;33m    l1{}:\u001b[0m\n\u001b[1;37m      ^\u001b[0m\n\u001b[1;31mSyntaxError\u001b[0m\u001b[1;31m:\u001b[0m invalid syntax\n"
     ]
    }
   ],
   "source": [
    "l1{}:\n",
    "    for y in l:\n",
    "        try:\n",
    "            pd.read_csv(r\"C:\\Users\\Harendra\\Downloads\\spam.csv\",encoding =y,on_bad_lines=\"skip\")\n",
    "            print(\"{} is correct coding\".format(y))\n",
    "        except UnicodeDecodeError:\n",
    "             print(\"{} is not correct coding\".format(y))\n",
    "        except LookupError:\n",
    "            print(\"{} is not supported\".format(y))\n",
    "        l1.append(y)\n",
    "        \n",
    "        "
   ]
  },
  {
   "cell_type": "code",
   "execution_count": 23,
   "id": "2f1a4800-f452-45c9-bfe8-4b3eb0a533fd",
   "metadata": {},
   "outputs": [],
   "source": [
    "import encodings"
   ]
  },
  {
   "cell_type": "code",
   "execution_count": 25,
   "id": "3920ceaf-2764-4e39-bba1-1dfbc720a8e8",
   "metadata": {},
   "outputs": [],
   "source": [
    "l = encodings.aliases.aliases.keys()\n",
    "## it returns ## dict ## keys are acting as encodings"
   ]
  },
  {
   "cell_type": "code",
   "execution_count": 49,
   "id": "a52a64db-147f-438b-97bf-b83b06743d74",
   "metadata": {},
   "outputs": [
    {
     "data": {
      "text/html": [
       "<div>\n",
       "<style scoped>\n",
       "    .dataframe tbody tr th:only-of-type {\n",
       "        vertical-align: middle;\n",
       "    }\n",
       "\n",
       "    .dataframe tbody tr th {\n",
       "        vertical-align: top;\n",
       "    }\n",
       "\n",
       "    .dataframe thead th {\n",
       "        text-align: right;\n",
       "    }\n",
       "</style>\n",
       "<table border=\"1\" class=\"dataframe\">\n",
       "  <thead>\n",
       "    <tr style=\"text-align: right;\">\n",
       "      <th></th>\n",
       "      <th>v1</th>\n",
       "      <th>v2</th>\n",
       "      <th>Unnamed: 2</th>\n",
       "      <th>Unnamed: 3</th>\n",
       "      <th>Unnamed: 4</th>\n",
       "    </tr>\n",
       "  </thead>\n",
       "  <tbody>\n",
       "    <tr>\n",
       "      <th>0</th>\n",
       "      <td>ham</td>\n",
       "      <td>Go until jurong point, crazy.. Available only ...</td>\n",
       "      <td>NaN</td>\n",
       "      <td>NaN</td>\n",
       "      <td>NaN</td>\n",
       "    </tr>\n",
       "    <tr>\n",
       "      <th>1</th>\n",
       "      <td>ham</td>\n",
       "      <td>Ok lar... Joking wif u oni...</td>\n",
       "      <td>NaN</td>\n",
       "      <td>NaN</td>\n",
       "      <td>NaN</td>\n",
       "    </tr>\n",
       "    <tr>\n",
       "      <th>2</th>\n",
       "      <td>spam</td>\n",
       "      <td>Free entry in 2 a wkly comp to win FA Cup fina...</td>\n",
       "      <td>NaN</td>\n",
       "      <td>NaN</td>\n",
       "      <td>NaN</td>\n",
       "    </tr>\n",
       "    <tr>\n",
       "      <th>3</th>\n",
       "      <td>ham</td>\n",
       "      <td>U dun say so early hor... U c already then say...</td>\n",
       "      <td>NaN</td>\n",
       "      <td>NaN</td>\n",
       "      <td>NaN</td>\n",
       "    </tr>\n",
       "    <tr>\n",
       "      <th>4</th>\n",
       "      <td>ham</td>\n",
       "      <td>Nah I don't think he goes to usf, he lives aro...</td>\n",
       "      <td>NaN</td>\n",
       "      <td>NaN</td>\n",
       "      <td>NaN</td>\n",
       "    </tr>\n",
       "  </tbody>\n",
       "</table>\n",
       "</div>"
      ],
      "text/plain": [
       "     v1                                                 v2 Unnamed: 2  \\\n",
       "0   ham  Go until jurong point, crazy.. Available only ...        NaN   \n",
       "1   ham                      Ok lar... Joking wif u oni...        NaN   \n",
       "2  spam  Free entry in 2 a wkly comp to win FA Cup fina...        NaN   \n",
       "3   ham  U dun say so early hor... U c already then say...        NaN   \n",
       "4   ham  Nah I don't think he goes to usf, he lives aro...        NaN   \n",
       "\n",
       "  Unnamed: 3 Unnamed: 4  \n",
       "0        NaN        NaN  \n",
       "1        NaN        NaN  \n",
       "2        NaN        NaN  \n",
       "3        NaN        NaN  \n",
       "4        NaN        NaN  "
      ]
     },
     "execution_count": 49,
     "metadata": {},
     "output_type": "execute_result"
    }
   ],
   "source": [
    "df = pd.read_csv(r\"C:\\Users\\Harendra\\Downloads\\spam.csv\",encoding=\"latin\")\n",
    "df.head()"
   ]
  },
  {
   "cell_type": "code",
   "execution_count": 96,
   "id": "6c9aeb2e-d0cd-4d6d-a28e-bcd99af7b53b",
   "metadata": {},
   "outputs": [
    {
     "data": {
      "text/plain": [
       "(5572, 5)"
      ]
     },
     "execution_count": 96,
     "metadata": {},
     "output_type": "execute_result"
    }
   ],
   "source": [
    "data = pd.read_csv(r\"C:\\Users\\Harendra\\Downloads\\spam.csv\",encoding=\"latin\")\n",
    "data.shape"
   ]
  },
  {
   "cell_type": "code",
   "execution_count": 128,
   "id": "ef92645a-90b3-46ce-aaed-9f590e200f5c",
   "metadata": {},
   "outputs": [
    {
     "data": {
      "text/plain": [
       "<pandas.io.parsers.readers.TextFileReader at 0x2a7cf014980>"
      ]
     },
     "execution_count": 128,
     "metadata": {},
     "output_type": "execute_result"
    }
   ],
   "source": [
    "file= pd.read_csv(r\"C:\\Users\\Harendra\\Downloads\\spam.csv\",encoding=\"latin\",chunksize=100)\n",
    "file"
   ]
  },
  {
   "cell_type": "code",
   "execution_count": 116,
   "id": "1679e59c-b1aa-4dc3-a804-2f751831abce",
   "metadata": {},
   "outputs": [
    {
     "name": "stdout",
     "output_type": "stream",
     "text": [
      "    v1                                                 v2 Unnamed: 2  \\\n",
      "0  ham  Go until jurong point, crazy.. Available only ...        NaN   \n",
      "1  ham                      Ok lar... Joking wif u oni...        NaN   \n",
      "\n",
      "  Unnamed: 3  Unnamed: 4  \n",
      "0        NaN         NaN  \n",
      "1        NaN         NaN  \n",
      "**************************************************\n",
      "      v1                                                 v2  Unnamed: 2  \\\n",
      "100  ham  Okay name ur price as long as its legal! Wen c...         NaN   \n",
      "101  ham  I'm still looking for a car to buy. And have n...         NaN   \n",
      "\n",
      "     Unnamed: 3  Unnamed: 4  \n",
      "100         NaN         NaN  \n",
      "101         NaN         NaN  \n",
      "**************************************************\n",
      "      v1                                                 v2 Unnamed: 2  \\\n",
      "200  ham                       I sent you  &lt;#&gt;  bucks        NaN   \n",
      "201  ham  Hello darlin ive finished college now so txt m...        NaN   \n",
      "\n",
      "    Unnamed: 3 Unnamed: 4  \n",
      "200        NaN        NaN  \n",
      "201        NaN        NaN  \n",
      "**************************************************\n",
      "      v1                                                 v2  Unnamed: 2  \\\n",
      "300  ham  Awesome, I remember the last time we got someb...         NaN   \n",
      "301  ham  Shit that is really shocking and scary, cant i...         NaN   \n",
      "\n",
      "     Unnamed: 3  Unnamed: 4  \n",
      "300         NaN         NaN  \n",
      "301         NaN         NaN  \n",
      "**************************************************\n",
      "       v1                                                 v2 Unnamed: 2  \\\n",
      "400  spam  FREE RINGTONE text FIRST to 87131 for a poly o...        NaN   \n",
      "401   ham            Dear how is chechi. Did you talk to her        NaN   \n",
      "\n",
      "     Unnamed: 3  Unnamed: 4  \n",
      "400         NaN         NaN  \n",
      "401         NaN         NaN  \n",
      "**************************************************\n",
      "      v1                                                 v2  Unnamed: 2  \\\n",
      "500  ham  Fighting with the world is easy, u either win ...         NaN   \n",
      "501  ham                              When can Ì_ come out?         NaN   \n",
      "\n",
      "     Unnamed: 3  Unnamed: 4  \n",
      "500         NaN         NaN  \n",
      "501         NaN         NaN  \n",
      "**************************************************\n",
      "      v1                                                 v2 Unnamed: 2  \\\n",
      "600  ham  Mind blastin.. No more Tsunamis will occur fro...        NaN   \n",
      "601  ham  If u sending her home first it's ok lor. I'm n...        NaN   \n",
      "\n",
      "     Unnamed: 3  Unnamed: 4  \n",
      "600         NaN         NaN  \n",
      "601         NaN         NaN  \n",
      "**************************************************\n",
      "      v1                             v2 Unnamed: 2  Unnamed: 3  Unnamed: 4\n",
      "700  ham  How much r Ì_ willing to pay?        NaN         NaN         NaN\n",
      "701  ham         Sorry, I'll call later        NaN         NaN         NaN\n",
      "**************************************************\n",
      "       v1                                                 v2 Unnamed: 2  \\\n",
      "800  spam  Last Chance! Claim ur å£150 worth of discount ...        NaN   \n",
      "801   ham  Appt is at &lt;TIME&gt; am. Not my fault u don...        NaN   \n",
      "\n",
      "    Unnamed: 3  Unnamed: 4  \n",
      "800        NaN         NaN  \n",
      "801        NaN         NaN  \n",
      "**************************************************\n",
      "      v1                                                 v2  Unnamed: 2  \\\n",
      "900  ham  Probably money worries. Things are coming due ...         NaN   \n",
      "901  ham        How is it possible to teach you. And where.         NaN   \n",
      "\n",
      "     Unnamed: 3  Unnamed: 4  \n",
      "900         NaN         NaN  \n",
      "901         NaN         NaN  \n",
      "**************************************************\n",
      "        v1                                                 v2 Unnamed: 2  \\\n",
      "1000   ham                            No..but heard abt tat..        NaN   \n",
      "1001  spam  Please call our customer service representativ...        NaN   \n",
      "\n",
      "     Unnamed: 3 Unnamed: 4  \n",
      "1000        NaN        NaN  \n",
      "1001        NaN        NaN  \n",
      "**************************************************\n",
      "       v1                                                 v2 Unnamed: 2  \\\n",
      "1100  ham  You busy or can I come by at some point and fi...        NaN   \n",
      "1101  ham  Yeah go on then, bored and depressed sittin wa...        NaN   \n",
      "\n",
      "      Unnamed: 3  Unnamed: 4  \n",
      "1100         NaN         NaN  \n",
      "1101         NaN         NaN  \n",
      "**************************************************\n",
      "       v1                                        v2 Unnamed: 2  Unnamed: 3  \\\n",
      "1200  ham  Otherwise had part time job na-tuition..        NaN         NaN   \n",
      "1201  ham                      I know she called me        NaN         NaN   \n",
      "\n",
      "      Unnamed: 4  \n",
      "1200         NaN  \n",
      "1201         NaN  \n",
      "**************************************************\n",
      "       v1                                                 v2 Unnamed: 2  \\\n",
      "1300  ham  Those cocksuckers. If it makes you feel better...        NaN   \n",
      "1301  ham               I tot u reach liao. He said t-shirt.        NaN   \n",
      "\n",
      "      Unnamed: 3  Unnamed: 4  \n",
      "1300         NaN         NaN  \n",
      "1301         NaN         NaN  \n",
      "**************************************************\n",
      "       v1                                                 v2 Unnamed: 2  \\\n",
      "1400  ham  No, I decided that only people who care about ...        NaN   \n",
      "1401  ham  Kaiez... Enjoy ur tuition... Gee... Thk e seco...        NaN   \n",
      "\n",
      "      Unnamed: 3  Unnamed: 4  \n",
      "1400         NaN         NaN  \n",
      "1401         NaN         NaN  \n",
      "**************************************************\n",
      "        v1                                                 v2 Unnamed: 2  \\\n",
      "1500   ham                 Host-based IDPS for linux systems.        NaN   \n",
      "1501  spam  HOT LIVE FANTASIES call now 08707509020 Just 2...        NaN   \n",
      "\n",
      "      Unnamed: 3  Unnamed: 4  \n",
      "1500         NaN         NaN  \n",
      "1501         NaN         NaN  \n",
      "**************************************************\n",
      "       v1                                                 v2 Unnamed: 2  \\\n",
      "1600  ham                          K.then any other special?        NaN   \n",
      "1601  ham  Carlos is taking his sweet time as usual so le...        NaN   \n",
      "\n",
      "      Unnamed: 3  Unnamed: 4  \n",
      "1600         NaN         NaN  \n",
      "1601         NaN         NaN  \n",
      "**************************************************\n",
      "       v1                                                 v2  Unnamed: 2  \\\n",
      "1700  ham                    Please ask mummy to call father         NaN   \n",
      "1701  ham  Can come my room but cannot come my house cos ...         NaN   \n",
      "\n",
      "      Unnamed: 3  Unnamed: 4  \n",
      "1700         NaN         NaN  \n",
      "1701         NaN         NaN  \n",
      "**************************************************\n",
      "       v1                                                 v2  Unnamed: 2  \\\n",
      "1800  ham  excellent. I spent  &lt;#&gt;  years in the Ai...         NaN   \n",
      "1801  ham                           I wanna watch that movie         NaN   \n",
      "\n",
      "      Unnamed: 3  Unnamed: 4  \n",
      "1800         NaN         NaN  \n",
      "1801         NaN         NaN  \n",
      "**************************************************\n",
      "       v1                                                 v2 Unnamed: 2  \\\n",
      "1900  ham  And miss vday the parachute and double coins??...        NaN   \n",
      "1901  ham                             Sorry, I'll call later        NaN   \n",
      "\n",
      "      Unnamed: 3  Unnamed: 4  \n",
      "1900         NaN         NaN  \n",
      "1901         NaN         NaN  \n",
      "**************************************************\n",
      "       v1                                                 v2 Unnamed: 2  \\\n",
      "2000  ham  But i'll b going 2 sch on mon. My sis need 2 t...        NaN   \n",
      "2001  ham             Idea will soon get converted to live:)        NaN   \n",
      "\n",
      "      Unnamed: 3  Unnamed: 4  \n",
      "2000         NaN         NaN  \n",
      "2001         NaN         NaN  \n",
      "**************************************************\n",
      "       v1                                                 v2 Unnamed: 2  \\\n",
      "2100  ham    Oh Howda gud gud.. Mathe en samachara chikku:-)        NaN   \n",
      "2101  ham  I thk 530 lor. But dunno can get tickets a not...        NaN   \n",
      "\n",
      "     Unnamed: 3  Unnamed: 4  \n",
      "2100        NaN         NaN  \n",
      "2101        NaN         NaN  \n",
      "**************************************************\n",
      "       v1                                                 v2 Unnamed: 2  \\\n",
      "2200  ham  Haha... can... But i'm having dinner with my c...        NaN   \n",
      "2201  ham  A boy was late 2 home. His father: \\POWER OF F...        NaN   \n",
      "\n",
      "     Unnamed: 3 Unnamed: 4  \n",
      "2200        NaN        NaN  \n",
      "2201        NaN        NaN  \n",
      "**************************************************\n",
      "       v1                                                 v2  Unnamed: 2  \\\n",
      "2300  ham  Nothin comes to my mind. ÌÏ help me buy hanger...         NaN   \n",
      "2301  ham   &lt;#&gt; , that's all? Guess that's easy enough         NaN   \n",
      "\n",
      "      Unnamed: 3  Unnamed: 4  \n",
      "2300         NaN         NaN  \n",
      "2301         NaN         NaN  \n",
      "**************************************************\n",
      "        v1                                                 v2 Unnamed: 2  \\\n",
      "2400   ham            Hi! This is Roger from CL. How are you?        NaN   \n",
      "2401  spam  Babe: U want me dont u baby! Im nasty and have...        NaN   \n",
      "\n",
      "      Unnamed: 3  Unnamed: 4  \n",
      "2400         NaN         NaN  \n",
      "2401         NaN         NaN  \n",
      "**************************************************\n",
      "       v1                                    v2  Unnamed: 2  Unnamed: 3  \\\n",
      "2500  ham  Remember to ask alex about his pizza         NaN         NaN   \n",
      "2501  ham          No da..today also i forgot..         NaN         NaN   \n",
      "\n",
      "      Unnamed: 4  \n",
      "2500         NaN  \n",
      "2501         NaN  \n",
      "**************************************************\n",
      "       v1                                              v2  Unnamed: 2  \\\n",
      "2600  ham  As usual..iam fine, happy &amp; doing well..:)         NaN   \n",
      "2601  ham                                            Okie         NaN   \n",
      "\n",
      "      Unnamed: 3  Unnamed: 4  \n",
      "2600         NaN         NaN  \n",
      "2601         NaN         NaN  \n",
      "**************************************************\n",
      "       v1                                                 v2 Unnamed: 2  \\\n",
      "2700  ham  Feb  &lt;#&gt;  is \\I LOVE U\\\" day. Send dis t...        NaN   \n",
      "2701  ham  Hiya, sorry didn't hav signal. I haven't seen ...        NaN   \n",
      "\n",
      "      Unnamed: 3  Unnamed: 4  \n",
      "2700         NaN         NaN  \n",
      "2701         NaN         NaN  \n",
      "**************************************************\n",
      "       v1                                                 v2  Unnamed: 2  \\\n",
      "2800  ham                      Depends on where u going lor.         NaN   \n",
      "2801  ham  And smile for me right now as you go and the w...         NaN   \n",
      "\n",
      "      Unnamed: 3  Unnamed: 4  \n",
      "2800         NaN         NaN  \n",
      "2801         NaN         NaN  \n",
      "**************************************************\n",
      "        v1                                                 v2 Unnamed: 2  \\\n",
      "2900  spam  Ur cash-balance is currently 500 pounds - to m...        NaN   \n",
      "2901   ham  Bill, as in: Are there any letters for me. iÛ...        NaN   \n",
      "\n",
      "      Unnamed: 3  Unnamed: 4  \n",
      "2900         NaN         NaN  \n",
      "2901         NaN         NaN  \n",
      "**************************************************\n",
      "        v1                                                 v2  Unnamed: 2  \\\n",
      "3000  spam  This message is free. Welcome to the new & imp...         NaN   \n",
      "3001   ham         Excellent, I'll see what riley's plans are         NaN   \n",
      "\n",
      "      Unnamed: 3  Unnamed: 4  \n",
      "3000         NaN         NaN  \n",
      "3001         NaN         NaN  \n",
      "**************************************************\n",
      "       v1                                                v2 Unnamed: 2  \\\n",
      "3100  ham                      Pathaya enketa maraikara pa'        NaN   \n",
      "3101  ham  Even if he my friend he is a priest call him now        NaN   \n",
      "\n",
      "     Unnamed: 3  Unnamed: 4  \n",
      "3100        NaN         NaN  \n",
      "3101        NaN         NaN  \n",
      "**************************************************\n",
      "       v1                                                 v2 Unnamed: 2  \\\n",
      "3200  ham                       Nice.nice.how is it working?        NaN   \n",
      "3201  ham  Okay lor... Wah... like that def they wont let...        NaN   \n",
      "\n",
      "      Unnamed: 3  Unnamed: 4  \n",
      "3200         NaN         NaN  \n",
      "3201         NaN         NaN  \n",
      "**************************************************\n",
      "        v1                                                 v2  Unnamed: 2  \\\n",
      "3300  spam           RCT' THNQ Adrian for U text. Rgds Vatian         NaN   \n",
      "3301   ham  Stop calling everyone saying I might have canc...         NaN   \n",
      "\n",
      "      Unnamed: 3  Unnamed: 4  \n",
      "3300         NaN         NaN  \n",
      "3301         NaN         NaN  \n",
      "**************************************************\n",
      "       v1                                                 v2  Unnamed: 2  \\\n",
      "3400  ham                    Thanks honey. Have a great day.         NaN   \n",
      "3401  ham  'An Amazing Quote'' - \\Sometimes in life its d...         NaN   \n",
      "\n",
      "      Unnamed: 3  Unnamed: 4  \n",
      "3400         NaN         NaN  \n",
      "3401         NaN         NaN  \n",
      "**************************************************\n",
      "       v1                                                 v2 Unnamed: 2  \\\n",
      "3500  ham  says the  &lt;#&gt;  year old with a man and m...        NaN   \n",
      "3501  ham                         I will come to ur home now        NaN   \n",
      "\n",
      "     Unnamed: 3 Unnamed: 4  \n",
      "3500        NaN        NaN  \n",
      "3501        NaN        NaN  \n",
      "**************************************************\n",
      "       v1                                              v2 Unnamed: 2  \\\n",
      "3600  ham                    Jay told me already, will do        NaN   \n",
      "3601  ham  Cps is causing the outages to conserve energy.        NaN   \n",
      "\n",
      "      Unnamed: 3  Unnamed: 4  \n",
      "3600         NaN         NaN  \n",
      "3601         NaN         NaN  \n",
      "**************************************************\n",
      "       v1                                                 v2 Unnamed: 2  \\\n",
      "3700  ham                              Shall i get my pouch?        NaN   \n",
      "3701  ham  Hey loverboy! I love you !! I had to tell ... ...        NaN   \n",
      "\n",
      "      Unnamed: 3  Unnamed: 4  \n",
      "3700         NaN         NaN  \n",
      "3701         NaN         NaN  \n",
      "**************************************************\n",
      "       v1                                         v2 Unnamed: 2  Unnamed: 3  \\\n",
      "3800  ham    It's ok, at least armand's still around        NaN         NaN   \n",
      "3801  ham  No da. I am happy that we sit together na        NaN         NaN   \n",
      "\n",
      "      Unnamed: 4  \n",
      "3800         NaN  \n",
      "3801         NaN  \n",
      "**************************************************\n",
      "       v1                                                 v2  Unnamed: 2  \\\n",
      "3900  ham  That depends. How would you like to be treated...         NaN   \n",
      "3901  ham                       Right on brah, see you later         NaN   \n",
      "\n",
      "      Unnamed: 3  Unnamed: 4  \n",
      "3900         NaN         NaN  \n",
      "3901         NaN         NaN  \n",
      "**************************************************\n",
      "       v1                                                 v2  Unnamed: 2  \\\n",
      "4000  ham  He's just gonna worry for nothing. And he won'...         NaN   \n",
      "4001  ham  Did you get any gift? This year i didnt get an...         NaN   \n",
      "\n",
      "      Unnamed: 3  Unnamed: 4  \n",
      "4000         NaN         NaN  \n",
      "4001         NaN         NaN  \n",
      "**************************************************\n",
      "        v1                                                 v2 Unnamed: 2  \\\n",
      "4100  spam  GSOH? Good with SPAM the ladies?U could b a ma...        NaN   \n",
      "4101   ham  Ok then i will come to ur home after half an hour        NaN   \n",
      "\n",
      "      Unnamed: 3  Unnamed: 4  \n",
      "4100         NaN         NaN  \n",
      "4101         NaN         NaN  \n",
      "**************************************************\n",
      "       v1                                                 v2 Unnamed: 2  \\\n",
      "4200  ham  Wylie update: my weed dealer carlos went to fr...        NaN   \n",
      "4201  ham  Are you happy baby ? Are you alright ? Did you...        NaN   \n",
      "\n",
      "      Unnamed: 3  Unnamed: 4  \n",
      "4200         NaN         NaN  \n",
      "4201         NaN         NaN  \n",
      "**************************************************\n",
      "       v1                                                 v2  Unnamed: 2  \\\n",
      "4300  ham  Are there TA jobs available? Let me know pleas...         NaN   \n",
      "4301  ham  Aiyar hard 2 type. U later free then tell me t...         NaN   \n",
      "\n",
      "      Unnamed: 3  Unnamed: 4  \n",
      "4300         NaN         NaN  \n",
      "4301         NaN         NaN  \n",
      "**************************************************\n",
      "       v1                                                 v2 Unnamed: 2  \\\n",
      "4400  ham      Many times we lose our best ones bcoz we are         NaN   \n",
      "4401  ham  Good FRIENDS CaRE for each Other.. CLoSE Frien...        NaN   \n",
      "\n",
      "      Unnamed: 3  Unnamed: 4  \n",
      "4400         NaN         NaN  \n",
      "4401         NaN         NaN  \n",
      "**************************************************\n",
      "       v1                         v2 Unnamed: 2  Unnamed: 3  Unnamed: 4\n",
      "4500  ham      So wat's da decision?        NaN         NaN         NaN\n",
      "4501  ham  Wot is u up 2 then bitch?        NaN         NaN         NaN\n",
      "**************************************************\n",
      "        v1                                                 v2  \\\n",
      "4600  spam  FreeMsg: Txt: CALL to No: 86888 & claim your r...   \n",
      "4601   ham                     \\Hey j! r u feeling any better   \n",
      "\n",
      "                                             Unnamed: 2 Unnamed: 3 Unnamed: 4  \n",
      "4600                                                NaN        NaN        NaN  \n",
      "4601   hopeSo hunny. i amnow feelin ill & ithink i m...        NaN        NaN  \n",
      "**************************************************\n",
      "       v1                      v2  Unnamed: 2  Unnamed: 3  Unnamed: 4\n",
      "4700  ham  I liked the new mobile         NaN         NaN         NaN\n",
      "4701  ham              Anytime...         NaN         NaN         NaN\n",
      "**************************************************\n",
      "       v1                                                 v2 Unnamed: 2  \\\n",
      "4800  ham  The guy at the car shop who was flirting with ...        NaN   \n",
      "4801  ham      Reverse is cheating. That is not mathematics.        NaN   \n",
      "\n",
      "      Unnamed: 3  Unnamed: 4  \n",
      "4800         NaN         NaN  \n",
      "4801         NaN         NaN  \n",
      "**************************************************\n",
      "        v1                                                 v2 Unnamed: 2  \\\n",
      "4900   ham       Taka lor. Wat time u wan 2 come n look 4 us?        NaN   \n",
      "4901  spam  * FREE* POLYPHONIC RINGTONE Text SUPER to 8713...        NaN   \n",
      "\n",
      "      Unnamed: 3  Unnamed: 4  \n",
      "4900         NaN         NaN  \n",
      "4901         NaN         NaN  \n",
      "**************************************************\n",
      "       v1                                                 v2 Unnamed: 2  \\\n",
      "5000  ham  Nope. Since ayo travelled, he has forgotten hi...        NaN   \n",
      "5001  ham         You still around? Looking to pick up later        NaN   \n",
      "\n",
      "     Unnamed: 3 Unnamed: 4  \n",
      "5000        NaN        NaN  \n",
      "5001        NaN        NaN  \n",
      "**************************************************\n",
      "       v1                                         v2  Unnamed: 2  Unnamed: 3  \\\n",
      "5100  ham           Aight, call me once you're close         NaN         NaN   \n",
      "5101  ham  Nope thats fine. I might have a nap tho!          NaN         NaN   \n",
      "\n",
      "      Unnamed: 4  \n",
      "5100         NaN  \n",
      "5101         NaN  \n",
      "**************************************************\n",
      "        v1                                                 v2 Unnamed: 2  \\\n",
      "5200  spam  Call Germany for only 1 pence per minute! Call...        NaN   \n",
      "5201  spam  YOU VE WON! Your 4* Costa Del Sol Holiday or å...        NaN   \n",
      "\n",
      "      Unnamed: 3  Unnamed: 4  \n",
      "5200         NaN         NaN  \n",
      "5201         NaN         NaN  \n",
      "**************************************************\n",
      "       v1                                   v2  Unnamed: 2  Unnamed: 3  \\\n",
      "5300  ham              I can't make it tonight         NaN         NaN   \n",
      "5301  ham  At WHAT TIME should i come tomorrow         NaN         NaN   \n",
      "\n",
      "      Unnamed: 4  \n",
      "5300         NaN  \n",
      "5301         NaN  \n",
      "**************************************************\n",
      "       v1                                                 v2  Unnamed: 2  \\\n",
      "5400  ham  HARD BUT TRUE: How much you show &amp;  expres...         NaN   \n",
      "5401  ham  Babes I think I got ur brolly I left it in Eng...         NaN   \n",
      "\n",
      "      Unnamed: 3  Unnamed: 4  \n",
      "5400         NaN         NaN  \n",
      "5401         NaN         NaN  \n",
      "**************************************************\n",
      "        v1                                                 v2  Unnamed: 2  \\\n",
      "5500   ham  Love has one law; Make happy the person you lo...         NaN   \n",
      "5501  spam  PRIVATE! Your 2003 Account Statement for 07808...         NaN   \n",
      "\n",
      "      Unnamed: 3  Unnamed: 4  \n",
      "5500         NaN         NaN  \n",
      "5501         NaN         NaN  \n",
      "**************************************************\n"
     ]
    }
   ],
   "source": [
    "c = 0\n",
    "for chunk in file:\n",
    "    print(chunk.head(2))\n",
    "    print(\"*\"*50)\n",
    "    c+=1"
   ]
  },
  {
   "cell_type": "code",
   "execution_count": 120,
   "id": "c301e793-40d9-4234-88ce-37e5d130566c",
   "metadata": {},
   "outputs": [],
   "source": [
    "for chunk in file:\n",
    "    print(chunk.shap)"
   ]
  },
  {
   "cell_type": "code",
   "execution_count": 139,
   "id": "8397a9b4-2885-451e-829b-02644cb58563",
   "metadata": {},
   "outputs": [
    {
     "name": "stdout",
     "output_type": "stream",
     "text": [
      "    v1                                                 v2 Unnamed: 2  \\\n",
      "0  ham  Go until jurong point, crazy.. Available only ...        NaN   \n",
      "1  ham                      Ok lar... Joking wif u oni...        NaN   \n",
      "\n",
      "  Unnamed: 3  Unnamed: 4  \n",
      "0        NaN         NaN  \n",
      "1        NaN         NaN  \n",
      "**************************************************\n",
      "      v1                                                 v2  Unnamed: 2  \\\n",
      "100  ham  Okay name ur price as long as its legal! Wen c...         NaN   \n",
      "101  ham  I'm still looking for a car to buy. And have n...         NaN   \n",
      "\n",
      "     Unnamed: 3  Unnamed: 4  \n",
      "100         NaN         NaN  \n",
      "101         NaN         NaN  \n",
      "**************************************************\n",
      "      v1                                                 v2 Unnamed: 2  \\\n",
      "200  ham                       I sent you  &lt;#&gt;  bucks        NaN   \n",
      "201  ham  Hello darlin ive finished college now so txt m...        NaN   \n",
      "\n",
      "    Unnamed: 3 Unnamed: 4  \n",
      "200        NaN        NaN  \n",
      "201        NaN        NaN  \n",
      "**************************************************\n",
      "      v1                                                 v2  Unnamed: 2  \\\n",
      "300  ham  Awesome, I remember the last time we got someb...         NaN   \n",
      "301  ham  Shit that is really shocking and scary, cant i...         NaN   \n",
      "\n",
      "     Unnamed: 3  Unnamed: 4  \n",
      "300         NaN         NaN  \n",
      "301         NaN         NaN  \n",
      "**************************************************\n",
      "       v1                                                 v2 Unnamed: 2  \\\n",
      "400  spam  FREE RINGTONE text FIRST to 87131 for a poly o...        NaN   \n",
      "401   ham            Dear how is chechi. Did you talk to her        NaN   \n",
      "\n",
      "     Unnamed: 3  Unnamed: 4  \n",
      "400         NaN         NaN  \n",
      "401         NaN         NaN  \n",
      "**************************************************\n",
      "      v1                                                 v2  Unnamed: 2  \\\n",
      "500  ham  Fighting with the world is easy, u either win ...         NaN   \n",
      "501  ham                              When can Ì_ come out?         NaN   \n",
      "\n",
      "     Unnamed: 3  Unnamed: 4  \n",
      "500         NaN         NaN  \n",
      "501         NaN         NaN  \n",
      "**************************************************\n",
      "      v1                                                 v2 Unnamed: 2  \\\n",
      "600  ham  Mind blastin.. No more Tsunamis will occur fro...        NaN   \n",
      "601  ham  If u sending her home first it's ok lor. I'm n...        NaN   \n",
      "\n",
      "     Unnamed: 3  Unnamed: 4  \n",
      "600         NaN         NaN  \n",
      "601         NaN         NaN  \n",
      "**************************************************\n",
      "      v1                             v2 Unnamed: 2  Unnamed: 3  Unnamed: 4\n",
      "700  ham  How much r Ì_ willing to pay?        NaN         NaN         NaN\n",
      "701  ham         Sorry, I'll call later        NaN         NaN         NaN\n",
      "**************************************************\n",
      "       v1                                                 v2 Unnamed: 2  \\\n",
      "800  spam  Last Chance! Claim ur å£150 worth of discount ...        NaN   \n",
      "801   ham  Appt is at &lt;TIME&gt; am. Not my fault u don...        NaN   \n",
      "\n",
      "    Unnamed: 3  Unnamed: 4  \n",
      "800        NaN         NaN  \n",
      "801        NaN         NaN  \n",
      "**************************************************\n",
      "      v1                                                 v2  Unnamed: 2  \\\n",
      "900  ham  Probably money worries. Things are coming due ...         NaN   \n",
      "901  ham        How is it possible to teach you. And where.         NaN   \n",
      "\n",
      "     Unnamed: 3  Unnamed: 4  \n",
      "900         NaN         NaN  \n",
      "901         NaN         NaN  \n",
      "**************************************************\n",
      "        v1                                                 v2 Unnamed: 2  \\\n",
      "1000   ham                            No..but heard abt tat..        NaN   \n",
      "1001  spam  Please call our customer service representativ...        NaN   \n",
      "\n",
      "     Unnamed: 3 Unnamed: 4  \n",
      "1000        NaN        NaN  \n",
      "1001        NaN        NaN  \n",
      "**************************************************\n",
      "       v1                                                 v2 Unnamed: 2  \\\n",
      "1100  ham  You busy or can I come by at some point and fi...        NaN   \n",
      "1101  ham  Yeah go on then, bored and depressed sittin wa...        NaN   \n",
      "\n",
      "      Unnamed: 3  Unnamed: 4  \n",
      "1100         NaN         NaN  \n",
      "1101         NaN         NaN  \n",
      "**************************************************\n",
      "       v1                                        v2 Unnamed: 2  Unnamed: 3  \\\n",
      "1200  ham  Otherwise had part time job na-tuition..        NaN         NaN   \n",
      "1201  ham                      I know she called me        NaN         NaN   \n",
      "\n",
      "      Unnamed: 4  \n",
      "1200         NaN  \n",
      "1201         NaN  \n",
      "**************************************************\n",
      "       v1                                                 v2 Unnamed: 2  \\\n",
      "1300  ham  Those cocksuckers. If it makes you feel better...        NaN   \n",
      "1301  ham               I tot u reach liao. He said t-shirt.        NaN   \n",
      "\n",
      "      Unnamed: 3  Unnamed: 4  \n",
      "1300         NaN         NaN  \n",
      "1301         NaN         NaN  \n",
      "**************************************************\n",
      "       v1                                                 v2 Unnamed: 2  \\\n",
      "1400  ham  No, I decided that only people who care about ...        NaN   \n",
      "1401  ham  Kaiez... Enjoy ur tuition... Gee... Thk e seco...        NaN   \n",
      "\n",
      "      Unnamed: 3  Unnamed: 4  \n",
      "1400         NaN         NaN  \n",
      "1401         NaN         NaN  \n",
      "**************************************************\n",
      "        v1                                                 v2 Unnamed: 2  \\\n",
      "1500   ham                 Host-based IDPS for linux systems.        NaN   \n",
      "1501  spam  HOT LIVE FANTASIES call now 08707509020 Just 2...        NaN   \n",
      "\n",
      "      Unnamed: 3  Unnamed: 4  \n",
      "1500         NaN         NaN  \n",
      "1501         NaN         NaN  \n",
      "**************************************************\n",
      "       v1                                                 v2 Unnamed: 2  \\\n",
      "1600  ham                          K.then any other special?        NaN   \n",
      "1601  ham  Carlos is taking his sweet time as usual so le...        NaN   \n",
      "\n",
      "      Unnamed: 3  Unnamed: 4  \n",
      "1600         NaN         NaN  \n",
      "1601         NaN         NaN  \n",
      "**************************************************\n",
      "       v1                                                 v2  Unnamed: 2  \\\n",
      "1700  ham                    Please ask mummy to call father         NaN   \n",
      "1701  ham  Can come my room but cannot come my house cos ...         NaN   \n",
      "\n",
      "      Unnamed: 3  Unnamed: 4  \n",
      "1700         NaN         NaN  \n",
      "1701         NaN         NaN  \n",
      "**************************************************\n",
      "       v1                                                 v2  Unnamed: 2  \\\n",
      "1800  ham  excellent. I spent  &lt;#&gt;  years in the Ai...         NaN   \n",
      "1801  ham                           I wanna watch that movie         NaN   \n",
      "\n",
      "      Unnamed: 3  Unnamed: 4  \n",
      "1800         NaN         NaN  \n",
      "1801         NaN         NaN  \n",
      "**************************************************\n",
      "       v1                                                 v2 Unnamed: 2  \\\n",
      "1900  ham  And miss vday the parachute and double coins??...        NaN   \n",
      "1901  ham                             Sorry, I'll call later        NaN   \n",
      "\n",
      "      Unnamed: 3  Unnamed: 4  \n",
      "1900         NaN         NaN  \n",
      "1901         NaN         NaN  \n",
      "**************************************************\n",
      "       v1                                                 v2 Unnamed: 2  \\\n",
      "2000  ham  But i'll b going 2 sch on mon. My sis need 2 t...        NaN   \n",
      "2001  ham             Idea will soon get converted to live:)        NaN   \n",
      "\n",
      "      Unnamed: 3  Unnamed: 4  \n",
      "2000         NaN         NaN  \n",
      "2001         NaN         NaN  \n",
      "**************************************************\n",
      "       v1                                                 v2 Unnamed: 2  \\\n",
      "2100  ham    Oh Howda gud gud.. Mathe en samachara chikku:-)        NaN   \n",
      "2101  ham  I thk 530 lor. But dunno can get tickets a not...        NaN   \n",
      "\n",
      "     Unnamed: 3  Unnamed: 4  \n",
      "2100        NaN         NaN  \n",
      "2101        NaN         NaN  \n",
      "**************************************************\n",
      "       v1                                                 v2 Unnamed: 2  \\\n",
      "2200  ham  Haha... can... But i'm having dinner with my c...        NaN   \n",
      "2201  ham  A boy was late 2 home. His father: \\POWER OF F...        NaN   \n",
      "\n",
      "     Unnamed: 3 Unnamed: 4  \n",
      "2200        NaN        NaN  \n",
      "2201        NaN        NaN  \n",
      "**************************************************\n",
      "       v1                                                 v2  Unnamed: 2  \\\n",
      "2300  ham  Nothin comes to my mind. ÌÏ help me buy hanger...         NaN   \n",
      "2301  ham   &lt;#&gt; , that's all? Guess that's easy enough         NaN   \n",
      "\n",
      "      Unnamed: 3  Unnamed: 4  \n",
      "2300         NaN         NaN  \n",
      "2301         NaN         NaN  \n",
      "**************************************************\n",
      "        v1                                                 v2 Unnamed: 2  \\\n",
      "2400   ham            Hi! This is Roger from CL. How are you?        NaN   \n",
      "2401  spam  Babe: U want me dont u baby! Im nasty and have...        NaN   \n",
      "\n",
      "      Unnamed: 3  Unnamed: 4  \n",
      "2400         NaN         NaN  \n",
      "2401         NaN         NaN  \n",
      "**************************************************\n",
      "       v1                                    v2  Unnamed: 2  Unnamed: 3  \\\n",
      "2500  ham  Remember to ask alex about his pizza         NaN         NaN   \n",
      "2501  ham          No da..today also i forgot..         NaN         NaN   \n",
      "\n",
      "      Unnamed: 4  \n",
      "2500         NaN  \n",
      "2501         NaN  \n",
      "**************************************************\n",
      "       v1                                              v2  Unnamed: 2  \\\n",
      "2600  ham  As usual..iam fine, happy &amp; doing well..:)         NaN   \n",
      "2601  ham                                            Okie         NaN   \n",
      "\n",
      "      Unnamed: 3  Unnamed: 4  \n",
      "2600         NaN         NaN  \n",
      "2601         NaN         NaN  \n",
      "**************************************************\n",
      "       v1                                                 v2 Unnamed: 2  \\\n",
      "2700  ham  Feb  &lt;#&gt;  is \\I LOVE U\\\" day. Send dis t...        NaN   \n",
      "2701  ham  Hiya, sorry didn't hav signal. I haven't seen ...        NaN   \n",
      "\n",
      "      Unnamed: 3  Unnamed: 4  \n",
      "2700         NaN         NaN  \n",
      "2701         NaN         NaN  \n",
      "**************************************************\n",
      "       v1                                                 v2  Unnamed: 2  \\\n",
      "2800  ham                      Depends on where u going lor.         NaN   \n",
      "2801  ham  And smile for me right now as you go and the w...         NaN   \n",
      "\n",
      "      Unnamed: 3  Unnamed: 4  \n",
      "2800         NaN         NaN  \n",
      "2801         NaN         NaN  \n",
      "**************************************************\n",
      "        v1                                                 v2 Unnamed: 2  \\\n",
      "2900  spam  Ur cash-balance is currently 500 pounds - to m...        NaN   \n",
      "2901   ham  Bill, as in: Are there any letters for me. iÛ...        NaN   \n",
      "\n",
      "      Unnamed: 3  Unnamed: 4  \n",
      "2900         NaN         NaN  \n",
      "2901         NaN         NaN  \n",
      "**************************************************\n",
      "        v1                                                 v2  Unnamed: 2  \\\n",
      "3000  spam  This message is free. Welcome to the new & imp...         NaN   \n",
      "3001   ham         Excellent, I'll see what riley's plans are         NaN   \n",
      "\n",
      "      Unnamed: 3  Unnamed: 4  \n",
      "3000         NaN         NaN  \n",
      "3001         NaN         NaN  \n",
      "**************************************************\n",
      "       v1                                                v2 Unnamed: 2  \\\n",
      "3100  ham                      Pathaya enketa maraikara pa'        NaN   \n",
      "3101  ham  Even if he my friend he is a priest call him now        NaN   \n",
      "\n",
      "     Unnamed: 3  Unnamed: 4  \n",
      "3100        NaN         NaN  \n",
      "3101        NaN         NaN  \n",
      "**************************************************\n",
      "       v1                                                 v2 Unnamed: 2  \\\n",
      "3200  ham                       Nice.nice.how is it working?        NaN   \n",
      "3201  ham  Okay lor... Wah... like that def they wont let...        NaN   \n",
      "\n",
      "      Unnamed: 3  Unnamed: 4  \n",
      "3200         NaN         NaN  \n",
      "3201         NaN         NaN  \n",
      "**************************************************\n",
      "        v1                                                 v2  Unnamed: 2  \\\n",
      "3300  spam           RCT' THNQ Adrian for U text. Rgds Vatian         NaN   \n",
      "3301   ham  Stop calling everyone saying I might have canc...         NaN   \n",
      "\n",
      "      Unnamed: 3  Unnamed: 4  \n",
      "3300         NaN         NaN  \n",
      "3301         NaN         NaN  \n",
      "**************************************************\n",
      "       v1                                                 v2  Unnamed: 2  \\\n",
      "3400  ham                    Thanks honey. Have a great day.         NaN   \n",
      "3401  ham  'An Amazing Quote'' - \\Sometimes in life its d...         NaN   \n",
      "\n",
      "      Unnamed: 3  Unnamed: 4  \n",
      "3400         NaN         NaN  \n",
      "3401         NaN         NaN  \n",
      "**************************************************\n",
      "       v1                                                 v2 Unnamed: 2  \\\n",
      "3500  ham  says the  &lt;#&gt;  year old with a man and m...        NaN   \n",
      "3501  ham                         I will come to ur home now        NaN   \n",
      "\n",
      "     Unnamed: 3 Unnamed: 4  \n",
      "3500        NaN        NaN  \n",
      "3501        NaN        NaN  \n",
      "**************************************************\n",
      "       v1                                              v2 Unnamed: 2  \\\n",
      "3600  ham                    Jay told me already, will do        NaN   \n",
      "3601  ham  Cps is causing the outages to conserve energy.        NaN   \n",
      "\n",
      "      Unnamed: 3  Unnamed: 4  \n",
      "3600         NaN         NaN  \n",
      "3601         NaN         NaN  \n",
      "**************************************************\n",
      "       v1                                                 v2 Unnamed: 2  \\\n",
      "3700  ham                              Shall i get my pouch?        NaN   \n",
      "3701  ham  Hey loverboy! I love you !! I had to tell ... ...        NaN   \n",
      "\n",
      "      Unnamed: 3  Unnamed: 4  \n",
      "3700         NaN         NaN  \n",
      "3701         NaN         NaN  \n",
      "**************************************************\n",
      "       v1                                         v2 Unnamed: 2  Unnamed: 3  \\\n",
      "3800  ham    It's ok, at least armand's still around        NaN         NaN   \n",
      "3801  ham  No da. I am happy that we sit together na        NaN         NaN   \n",
      "\n",
      "      Unnamed: 4  \n",
      "3800         NaN  \n",
      "3801         NaN  \n",
      "**************************************************\n",
      "       v1                                                 v2  Unnamed: 2  \\\n",
      "3900  ham  That depends. How would you like to be treated...         NaN   \n",
      "3901  ham                       Right on brah, see you later         NaN   \n",
      "\n",
      "      Unnamed: 3  Unnamed: 4  \n",
      "3900         NaN         NaN  \n",
      "3901         NaN         NaN  \n",
      "**************************************************\n",
      "       v1                                                 v2  Unnamed: 2  \\\n",
      "4000  ham  He's just gonna worry for nothing. And he won'...         NaN   \n",
      "4001  ham  Did you get any gift? This year i didnt get an...         NaN   \n",
      "\n",
      "      Unnamed: 3  Unnamed: 4  \n",
      "4000         NaN         NaN  \n",
      "4001         NaN         NaN  \n",
      "**************************************************\n",
      "        v1                                                 v2 Unnamed: 2  \\\n",
      "4100  spam  GSOH? Good with SPAM the ladies?U could b a ma...        NaN   \n",
      "4101   ham  Ok then i will come to ur home after half an hour        NaN   \n",
      "\n",
      "      Unnamed: 3  Unnamed: 4  \n",
      "4100         NaN         NaN  \n",
      "4101         NaN         NaN  \n",
      "**************************************************\n",
      "       v1                                                 v2 Unnamed: 2  \\\n",
      "4200  ham  Wylie update: my weed dealer carlos went to fr...        NaN   \n",
      "4201  ham  Are you happy baby ? Are you alright ? Did you...        NaN   \n",
      "\n",
      "      Unnamed: 3  Unnamed: 4  \n",
      "4200         NaN         NaN  \n",
      "4201         NaN         NaN  \n",
      "**************************************************\n",
      "       v1                                                 v2  Unnamed: 2  \\\n",
      "4300  ham  Are there TA jobs available? Let me know pleas...         NaN   \n",
      "4301  ham  Aiyar hard 2 type. U later free then tell me t...         NaN   \n",
      "\n",
      "      Unnamed: 3  Unnamed: 4  \n",
      "4300         NaN         NaN  \n",
      "4301         NaN         NaN  \n",
      "**************************************************\n",
      "       v1                                                 v2 Unnamed: 2  \\\n",
      "4400  ham      Many times we lose our best ones bcoz we are         NaN   \n",
      "4401  ham  Good FRIENDS CaRE for each Other.. CLoSE Frien...        NaN   \n",
      "\n",
      "      Unnamed: 3  Unnamed: 4  \n",
      "4400         NaN         NaN  \n",
      "4401         NaN         NaN  \n",
      "**************************************************\n",
      "       v1                         v2 Unnamed: 2  Unnamed: 3  Unnamed: 4\n",
      "4500  ham      So wat's da decision?        NaN         NaN         NaN\n",
      "4501  ham  Wot is u up 2 then bitch?        NaN         NaN         NaN\n",
      "**************************************************\n",
      "        v1                                                 v2  \\\n",
      "4600  spam  FreeMsg: Txt: CALL to No: 86888 & claim your r...   \n",
      "4601   ham                     \\Hey j! r u feeling any better   \n",
      "\n",
      "                                             Unnamed: 2 Unnamed: 3 Unnamed: 4  \n",
      "4600                                                NaN        NaN        NaN  \n",
      "4601   hopeSo hunny. i amnow feelin ill & ithink i m...        NaN        NaN  \n",
      "**************************************************\n",
      "       v1                      v2  Unnamed: 2  Unnamed: 3  Unnamed: 4\n",
      "4700  ham  I liked the new mobile         NaN         NaN         NaN\n",
      "4701  ham              Anytime...         NaN         NaN         NaN\n",
      "**************************************************\n",
      "       v1                                                 v2 Unnamed: 2  \\\n",
      "4800  ham  The guy at the car shop who was flirting with ...        NaN   \n",
      "4801  ham      Reverse is cheating. That is not mathematics.        NaN   \n",
      "\n",
      "      Unnamed: 3  Unnamed: 4  \n",
      "4800         NaN         NaN  \n",
      "4801         NaN         NaN  \n",
      "**************************************************\n",
      "        v1                                                 v2 Unnamed: 2  \\\n",
      "4900   ham       Taka lor. Wat time u wan 2 come n look 4 us?        NaN   \n",
      "4901  spam  * FREE* POLYPHONIC RINGTONE Text SUPER to 8713...        NaN   \n",
      "\n",
      "      Unnamed: 3  Unnamed: 4  \n",
      "4900         NaN         NaN  \n",
      "4901         NaN         NaN  \n",
      "**************************************************\n",
      "       v1                                                 v2 Unnamed: 2  \\\n",
      "5000  ham  Nope. Since ayo travelled, he has forgotten hi...        NaN   \n",
      "5001  ham         You still around? Looking to pick up later        NaN   \n",
      "\n",
      "     Unnamed: 3 Unnamed: 4  \n",
      "5000        NaN        NaN  \n",
      "5001        NaN        NaN  \n",
      "**************************************************\n",
      "       v1                                         v2  Unnamed: 2  Unnamed: 3  \\\n",
      "5100  ham           Aight, call me once you're close         NaN         NaN   \n",
      "5101  ham  Nope thats fine. I might have a nap tho!          NaN         NaN   \n",
      "\n",
      "      Unnamed: 4  \n",
      "5100         NaN  \n",
      "5101         NaN  \n",
      "**************************************************\n",
      "        v1                                                 v2 Unnamed: 2  \\\n",
      "5200  spam  Call Germany for only 1 pence per minute! Call...        NaN   \n",
      "5201  spam  YOU VE WON! Your 4* Costa Del Sol Holiday or å...        NaN   \n",
      "\n",
      "      Unnamed: 3  Unnamed: 4  \n",
      "5200         NaN         NaN  \n",
      "5201         NaN         NaN  \n",
      "**************************************************\n",
      "       v1                                   v2  Unnamed: 2  Unnamed: 3  \\\n",
      "5300  ham              I can't make it tonight         NaN         NaN   \n",
      "5301  ham  At WHAT TIME should i come tomorrow         NaN         NaN   \n",
      "\n",
      "      Unnamed: 4  \n",
      "5300         NaN  \n",
      "5301         NaN  \n",
      "**************************************************\n",
      "       v1                                                 v2  Unnamed: 2  \\\n",
      "5400  ham  HARD BUT TRUE: How much you show &amp;  expres...         NaN   \n",
      "5401  ham  Babes I think I got ur brolly I left it in Eng...         NaN   \n",
      "\n",
      "      Unnamed: 3  Unnamed: 4  \n",
      "5400         NaN         NaN  \n",
      "5401         NaN         NaN  \n",
      "**************************************************\n",
      "        v1                                                 v2  Unnamed: 2  \\\n",
      "5500   ham  Love has one law; Make happy the person you lo...         NaN   \n",
      "5501  spam  PRIVATE! Your 2003 Account Statement for 07808...         NaN   \n",
      "\n",
      "      Unnamed: 3  Unnamed: 4  \n",
      "5500         NaN         NaN  \n",
      "5501         NaN         NaN  \n",
      "**************************************************\n"
     ]
    }
   ],
   "source": [
    "file= pd.read_csv(r\"C:\\Users\\Harendra\\Downloads\\spam.csv\",encoding=\"latin\",chunksize=100)\n",
    "c = 0\n",
    "c = 0\n",
    "for chunk in file:\n",
    "    print(chunk.head(2))\n",
    "    print(\"*\"*50)\n",
    "    c+=1"
   ]
  },
  {
   "cell_type": "code",
   "execution_count": 136,
   "id": "3c64fbb9-b000-4a5c-bb9a-392f7608b98e",
   "metadata": {},
   "outputs": [
    {
     "data": {
      "text/plain": [
       "56"
      ]
     },
     "execution_count": 136,
     "metadata": {},
     "output_type": "execute_result"
    }
   ],
   "source": [
    "c"
   ]
  },
  {
   "cell_type": "markdown",
   "id": "fe013ad6-b184-4b16-b855-2f2c70e61528",
   "metadata": {},
   "source": [
    "# 4) takes time "
   ]
  },
  {
   "cell_type": "code",
   "execution_count": null,
   "id": "76071e7f-bad1-448b-a5aa-6422ee1313c2",
   "metadata": {},
   "outputs": [],
   "source": []
  },
  {
   "cell_type": "code",
   "execution_count": 156,
   "id": "3bc6cd14-5b98-4c80-9324-f9e778ce4b70",
   "metadata": {},
   "outputs": [],
   "source": [
    "import time"
   ]
  },
  {
   "cell_type": "code",
   "execution_count": 158,
   "id": "30bfbb83-b1df-41fe-a7bc-5d1a8473a66a",
   "metadata": {},
   "outputs": [],
   "source": [
    "x = time.time() # sec\n",
    "data1 =pd.read_csv(r\"C:\\Users\\Harendra\\Downloads\\spam.csv\",encoding=\"latin\")\n",
    "y = time.time()"
   ]
  },
  {
   "cell_type": "code",
   "execution_count": 160,
   "id": "c32543b3-a54c-44fa-bd31-a297ab84342f",
   "metadata": {},
   "outputs": [
    {
     "data": {
      "text/plain": [
       "0.024490833282470703"
      ]
     },
     "execution_count": 160,
     "metadata": {},
     "output_type": "execute_result"
    }
   ],
   "source": [
    "y-x"
   ]
  },
  {
   "cell_type": "code",
   "execution_count": 170,
   "id": "0d69be48-cc26-4951-8d61-6fc253646f5d",
   "metadata": {},
   "outputs": [
    {
     "name": "stdout",
     "output_type": "stream",
     "text": [
      "Defaulting to user installation because normal site-packages is not writeable\n",
      "Collecting polars\n",
      "  Downloading polars-1.14.0-cp39-abi3-win_amd64.whl.metadata (15 kB)\n",
      "Downloading polars-1.14.0-cp39-abi3-win_amd64.whl (35.3 MB)\n",
      "   ---------------------------------------- 0.0/35.3 MB ? eta -:--:--\n",
      "   ---------------------------------------- 0.3/35.3 MB ? eta -:--:--\n",
      "    --------------------------------------- 0.8/35.3 MB 2.0 MB/s eta 0:00:18\n",
      "   - -------------------------------------- 1.0/35.3 MB 2.0 MB/s eta 0:00:17\n",
      "   - -------------------------------------- 1.6/35.3 MB 2.1 MB/s eta 0:00:17\n",
      "   -- ------------------------------------- 2.1/35.3 MB 2.1 MB/s eta 0:00:17\n",
      "   -- ------------------------------------- 2.6/35.3 MB 2.1 MB/s eta 0:00:16\n",
      "   --- ------------------------------------ 3.1/35.3 MB 2.2 MB/s eta 0:00:15\n",
      "   ---- ----------------------------------- 3.7/35.3 MB 2.3 MB/s eta 0:00:14\n",
      "   ---- ----------------------------------- 3.9/35.3 MB 2.2 MB/s eta 0:00:15\n",
      "   ---- ----------------------------------- 4.2/35.3 MB 2.1 MB/s eta 0:00:15\n",
      "   ----- ---------------------------------- 4.5/35.3 MB 1.9 MB/s eta 0:00:17\n",
      "   ----- ---------------------------------- 5.0/35.3 MB 2.0 MB/s eta 0:00:16\n",
      "   ----- ---------------------------------- 5.2/35.3 MB 2.0 MB/s eta 0:00:15\n",
      "   ------ --------------------------------- 5.5/35.3 MB 2.0 MB/s eta 0:00:16\n",
      "   ------- -------------------------------- 6.3/35.3 MB 2.0 MB/s eta 0:00:15\n",
      "   ------- -------------------------------- 6.8/35.3 MB 2.0 MB/s eta 0:00:14\n",
      "   ------- -------------------------------- 6.8/35.3 MB 2.0 MB/s eta 0:00:14\n",
      "   -------- ------------------------------- 7.1/35.3 MB 1.9 MB/s eta 0:00:15\n",
      "   -------- ------------------------------- 7.3/35.3 MB 1.8 MB/s eta 0:00:16\n",
      "   -------- ------------------------------- 7.3/35.3 MB 1.8 MB/s eta 0:00:16\n",
      "   -------- ------------------------------- 7.6/35.3 MB 1.8 MB/s eta 0:00:16\n",
      "   --------- ------------------------------ 8.1/35.3 MB 1.7 MB/s eta 0:00:16\n",
      "   --------- ------------------------------ 8.1/35.3 MB 1.7 MB/s eta 0:00:16\n",
      "   --------- ------------------------------ 8.4/35.3 MB 1.7 MB/s eta 0:00:16\n",
      "   ---------- ----------------------------- 8.9/35.3 MB 1.7 MB/s eta 0:00:16\n",
      "   ---------- ----------------------------- 9.4/35.3 MB 1.7 MB/s eta 0:00:15\n",
      "   ----------- ---------------------------- 10.0/35.3 MB 1.7 MB/s eta 0:00:15\n",
      "   ----------- ---------------------------- 10.5/35.3 MB 1.8 MB/s eta 0:00:14\n",
      "   ------------ --------------------------- 10.7/35.3 MB 1.8 MB/s eta 0:00:14\n",
      "   ------------ --------------------------- 11.0/35.3 MB 1.8 MB/s eta 0:00:14\n",
      "   ------------ --------------------------- 11.3/35.3 MB 1.7 MB/s eta 0:00:14\n",
      "   ------------- -------------------------- 11.5/35.3 MB 1.7 MB/s eta 0:00:14\n",
      "   ------------- -------------------------- 11.8/35.3 MB 1.7 MB/s eta 0:00:14\n",
      "   ------------- -------------------------- 12.3/35.3 MB 1.7 MB/s eta 0:00:14\n",
      "   ------------- -------------------------- 12.3/35.3 MB 1.7 MB/s eta 0:00:14\n",
      "   -------------- ------------------------- 12.6/35.3 MB 1.7 MB/s eta 0:00:14\n",
      "   -------------- ------------------------- 12.8/35.3 MB 1.7 MB/s eta 0:00:14\n",
      "   --------------- ------------------------ 13.4/35.3 MB 1.7 MB/s eta 0:00:14\n",
      "   --------------- ------------------------ 13.4/35.3 MB 1.7 MB/s eta 0:00:14\n",
      "   --------------- ------------------------ 13.6/35.3 MB 1.6 MB/s eta 0:00:14\n",
      "   ---------------- ----------------------- 14.2/35.3 MB 1.6 MB/s eta 0:00:13\n",
      "   ---------------- ----------------------- 14.7/35.3 MB 1.7 MB/s eta 0:00:13\n",
      "   ---------------- ----------------------- 14.9/35.3 MB 1.7 MB/s eta 0:00:13\n",
      "   ----------------- ---------------------- 15.2/35.3 MB 1.6 MB/s eta 0:00:13\n",
      "   ----------------- ---------------------- 15.2/35.3 MB 1.6 MB/s eta 0:00:13\n",
      "   ----------------- ---------------------- 15.2/35.3 MB 1.6 MB/s eta 0:00:13\n",
      "   ----------------- ---------------------- 15.2/35.3 MB 1.6 MB/s eta 0:00:13\n",
      "   ----------------- ---------------------- 15.5/35.3 MB 1.5 MB/s eta 0:00:13\n",
      "   ----------------- ---------------------- 15.5/35.3 MB 1.5 MB/s eta 0:00:13\n",
      "   ----------------- ---------------------- 15.5/35.3 MB 1.5 MB/s eta 0:00:13\n",
      "   ----------------- ---------------------- 15.5/35.3 MB 1.5 MB/s eta 0:00:13\n",
      "   ----------------- ---------------------- 15.5/35.3 MB 1.5 MB/s eta 0:00:13\n",
      "   ----------------- ---------------------- 15.7/35.3 MB 1.4 MB/s eta 0:00:14\n",
      "   ----------------- ---------------------- 15.7/35.3 MB 1.4 MB/s eta 0:00:14\n",
      "   ----------------- ---------------------- 15.7/35.3 MB 1.4 MB/s eta 0:00:14\n",
      "   ----------------- ---------------------- 15.7/35.3 MB 1.4 MB/s eta 0:00:14\n",
      "   ----------------- ---------------------- 15.7/35.3 MB 1.4 MB/s eta 0:00:14\n",
      "   ----------------- ---------------------- 15.7/35.3 MB 1.4 MB/s eta 0:00:14\n",
      "   ----------------- ---------------------- 15.7/35.3 MB 1.4 MB/s eta 0:00:14\n",
      "   ----------------- ---------------------- 15.7/35.3 MB 1.4 MB/s eta 0:00:14\n",
      "   ----------------- ---------------------- 15.7/35.3 MB 1.4 MB/s eta 0:00:14\n",
      "   ----------------- ---------------------- 15.7/35.3 MB 1.4 MB/s eta 0:00:14\n",
      "   ----------------- ---------------------- 15.7/35.3 MB 1.4 MB/s eta 0:00:14\n",
      "   ------------------ --------------------- 16.0/35.3 MB 1.2 MB/s eta 0:00:17\n",
      "   ------------------ --------------------- 16.0/35.3 MB 1.2 MB/s eta 0:00:17\n",
      "   ------------------ --------------------- 16.0/35.3 MB 1.2 MB/s eta 0:00:17\n",
      "   ------------------ --------------------- 16.0/35.3 MB 1.2 MB/s eta 0:00:17\n",
      "   ------------------ --------------------- 16.0/35.3 MB 1.2 MB/s eta 0:00:17\n",
      "   ------------------ --------------------- 16.0/35.3 MB 1.2 MB/s eta 0:00:17\n",
      "   ------------------ --------------------- 16.0/35.3 MB 1.2 MB/s eta 0:00:17\n",
      "   ------------------ --------------------- 16.0/35.3 MB 1.2 MB/s eta 0:00:17\n",
      "   ------------------ --------------------- 16.3/35.3 MB 1.1 MB/s eta 0:00:18\n",
      "   ------------------ --------------------- 16.3/35.3 MB 1.1 MB/s eta 0:00:18\n",
      "   ------------------ --------------------- 16.3/35.3 MB 1.1 MB/s eta 0:00:18\n",
      "   ------------------ --------------------- 16.3/35.3 MB 1.1 MB/s eta 0:00:18\n",
      "   ------------------ --------------------- 16.3/35.3 MB 1.1 MB/s eta 0:00:18\n",
      "   ------------------ --------------------- 16.3/35.3 MB 1.1 MB/s eta 0:00:18\n",
      "   ------------------ --------------------- 16.3/35.3 MB 1.1 MB/s eta 0:00:18\n",
      "   ------------------ --------------------- 16.3/35.3 MB 1.1 MB/s eta 0:00:18\n",
      "   ------------------ --------------------- 16.3/35.3 MB 1.1 MB/s eta 0:00:18\n",
      "   ------------------ --------------------- 16.5/35.3 MB 966.7 kB/s eta 0:00:20\n",
      "   ------------------ --------------------- 16.5/35.3 MB 966.7 kB/s eta 0:00:20\n",
      "   ------------------ --------------------- 16.5/35.3 MB 966.7 kB/s eta 0:00:20\n",
      "   ------------------ --------------------- 16.5/35.3 MB 966.7 kB/s eta 0:00:20\n",
      "   ------------------ --------------------- 16.5/35.3 MB 966.7 kB/s eta 0:00:20\n",
      "   ------------------ --------------------- 16.5/35.3 MB 966.7 kB/s eta 0:00:20\n",
      "   ------------------ --------------------- 16.5/35.3 MB 966.7 kB/s eta 0:00:20\n",
      "   ------------------ --------------------- 16.5/35.3 MB 966.7 kB/s eta 0:00:20\n",
      "   ------------------- -------------------- 16.8/35.3 MB 889.7 kB/s eta 0:00:21\n",
      "   ------------------- -------------------- 16.8/35.3 MB 889.7 kB/s eta 0:00:21\n",
      "   ------------------- -------------------- 16.8/35.3 MB 889.7 kB/s eta 0:00:21\n",
      "   ------------------- -------------------- 16.8/35.3 MB 889.7 kB/s eta 0:00:21\n",
      "   ------------------- -------------------- 17.0/35.3 MB 861.1 kB/s eta 0:00:22\n",
      "   ------------------- -------------------- 17.3/35.3 MB 863.5 kB/s eta 0:00:21\n",
      "   ------------------- -------------------- 17.3/35.3 MB 863.5 kB/s eta 0:00:21\n",
      "   ------------------- -------------------- 17.6/35.3 MB 863.7 kB/s eta 0:00:21\n",
      "   -------------------- ------------------- 17.8/35.3 MB 864.0 kB/s eta 0:00:21\n",
      "   -------------------- ------------------- 18.1/35.3 MB 866.9 kB/s eta 0:00:20\n",
      "   -------------------- ------------------- 18.4/35.3 MB 871.7 kB/s eta 0:00:20\n",
      "   --------------------- ------------------ 18.9/35.3 MB 887.6 kB/s eta 0:00:19\n",
      "   ---------------------- ----------------- 19.7/35.3 MB 914.9 kB/s eta 0:00:18\n",
      "   ---------------------- ----------------- 20.2/35.3 MB 931.4 kB/s eta 0:00:17\n",
      "   ----------------------- ---------------- 20.4/35.3 MB 936.8 kB/s eta 0:00:16\n",
      "   ----------------------- ---------------- 21.0/35.3 MB 950.8 kB/s eta 0:00:16\n",
      "   ------------------------ --------------- 21.8/35.3 MB 973.6 kB/s eta 0:00:14\n",
      "   ------------------------- -------------- 22.3/35.3 MB 988.3 kB/s eta 0:00:14\n",
      "   ------------------------- -------------- 22.5/35.3 MB 993.8 kB/s eta 0:00:13\n",
      "   ------------------------- -------------- 22.8/35.3 MB 1.0 MB/s eta 0:00:13\n",
      "   -------------------------- ------------- 23.3/35.3 MB 1.0 MB/s eta 0:00:12\n",
      "   --------------------------- ------------ 23.9/35.3 MB 1.0 MB/s eta 0:00:12\n",
      "   --------------------------- ------------ 24.1/35.3 MB 1.0 MB/s eta 0:00:11\n",
      "   --------------------------- ------------ 24.6/35.3 MB 1.0 MB/s eta 0:00:11\n",
      "   ---------------------------- ----------- 25.2/35.3 MB 1.1 MB/s eta 0:00:10\n",
      "   ----------------------------- ---------- 26.0/35.3 MB 1.1 MB/s eta 0:00:09\n",
      "   ------------------------------ --------- 26.7/35.3 MB 1.1 MB/s eta 0:00:08\n",
      "   ------------------------------- -------- 27.5/35.3 MB 1.1 MB/s eta 0:00:07\n",
      "   ------------------------------- -------- 28.0/35.3 MB 1.1 MB/s eta 0:00:07\n",
      "   -------------------------------- ------- 28.6/35.3 MB 1.1 MB/s eta 0:00:06\n",
      "   -------------------------------- ------- 29.1/35.3 MB 1.2 MB/s eta 0:00:06\n",
      "   --------------------------------- ------ 29.4/35.3 MB 1.2 MB/s eta 0:00:06\n",
      "   --------------------------------- ------ 29.9/35.3 MB 1.2 MB/s eta 0:00:05\n",
      "   ---------------------------------- ----- 30.4/35.3 MB 1.2 MB/s eta 0:00:05\n",
      "   ----------------------------------- ---- 30.9/35.3 MB 1.2 MB/s eta 0:00:04\n",
      "   ----------------------------------- ---- 31.5/35.3 MB 1.2 MB/s eta 0:00:04\n",
      "   ------------------------------------ --- 32.0/35.3 MB 1.2 MB/s eta 0:00:03\n",
      "   ------------------------------------ --- 32.5/35.3 MB 1.2 MB/s eta 0:00:03\n",
      "   ------------------------------------- -- 33.0/35.3 MB 1.2 MB/s eta 0:00:02\n",
      "   -------------------------------------- - 33.6/35.3 MB 1.2 MB/s eta 0:00:02\n",
      "   -------------------------------------- - 34.1/35.3 MB 1.2 MB/s eta 0:00:01\n",
      "   -------------------------------------- - 34.3/35.3 MB 1.3 MB/s eta 0:00:01\n",
      "   ---------------------------------------  34.9/35.3 MB 1.3 MB/s eta 0:00:01\n",
      "   ---------------------------------------  34.9/35.3 MB 1.3 MB/s eta 0:00:01\n",
      "   ---------------------------------------  35.1/35.3 MB 1.3 MB/s eta 0:00:01\n",
      "   ---------------------------------------- 35.3/35.3 MB 1.2 MB/s eta 0:00:00\n",
      "Installing collected packages: polars\n",
      "Successfully installed polars-1.14.0\n",
      "Note: you may need to restart the kernel to use updated packages.\n"
     ]
    },
    {
     "name": "stderr",
     "output_type": "stream",
     "text": [
      "\n",
      "[notice] A new release of pip is available: 24.2 -> 24.3.1\n",
      "[notice] To update, run: python.exe -m pip install --upgrade pip\n"
     ]
    }
   ],
   "source": [
    "pip install polars"
   ]
  },
  {
   "cell_type": "code",
   "execution_count": 172,
   "id": "9f28ef68-cc28-4fbf-9d2e-ea68a2e5f18e",
   "metadata": {},
   "outputs": [],
   "source": [
    "import polars"
   ]
  },
  {
   "cell_type": "code",
   "execution_count": 174,
   "id": "713d391e-6cf3-402a-9126-8f5839f32f5b",
   "metadata": {},
   "outputs": [],
   "source": [
    "x = time.time() # sec\n",
    "data2 =polars.read_csv(r\"C:\\Users\\Harendra\\Downloads\\spam.csv\",encoding=\"latin\")\n",
    "y = time.time()"
   ]
  },
  {
   "cell_type": "code",
   "execution_count": 176,
   "id": "aa21cc47-f2ef-45df-a8f6-8df7d6155b43",
   "metadata": {},
   "outputs": [
    {
     "data": {
      "text/plain": [
       "0.5078034400939941"
      ]
     },
     "execution_count": 176,
     "metadata": {},
     "output_type": "execute_result"
    }
   ],
   "source": [
    "y-x"
   ]
  },
  {
   "cell_type": "code",
   "execution_count": null,
   "id": "4831fe6e-b6d7-42df-a0c1-6603706c2587",
   "metadata": {},
   "outputs": [],
   "source": []
  },
  {
   "cell_type": "markdown",
   "id": "ac5ea962-c4df-4a32-8c58-67891d802eba",
   "metadata": {},
   "source": [
    "## Excel"
   ]
  },
  {
   "cell_type": "code",
   "execution_count": 14,
   "id": "b29423c1-2c92-45c3-beec-aa9848275fdb",
   "metadata": {},
   "outputs": [],
   "source": [
    "import pandas as pd"
   ]
  },
  {
   "cell_type": "code",
   "execution_count": 24,
   "id": "9a7d4c75-1acd-41e0-b6cb-d9aadca78c12",
   "metadata": {},
   "outputs": [
    {
     "data": {
      "text/html": [
       "<div>\n",
       "<style scoped>\n",
       "    .dataframe tbody tr th:only-of-type {\n",
       "        vertical-align: middle;\n",
       "    }\n",
       "\n",
       "    .dataframe tbody tr th {\n",
       "        vertical-align: top;\n",
       "    }\n",
       "\n",
       "    .dataframe thead th {\n",
       "        text-align: right;\n",
       "    }\n",
       "</style>\n",
       "<table border=\"1\" class=\"dataframe\">\n",
       "  <thead>\n",
       "    <tr style=\"text-align: right;\">\n",
       "      <th></th>\n",
       "      <th>Name</th>\n",
       "      <th>Age</th>\n",
       "    </tr>\n",
       "  </thead>\n",
       "  <tbody>\n",
       "    <tr>\n",
       "      <th>0</th>\n",
       "      <td>p1</td>\n",
       "      <td>15</td>\n",
       "    </tr>\n",
       "    <tr>\n",
       "      <th>1</th>\n",
       "      <td>p2</td>\n",
       "      <td>19</td>\n",
       "    </tr>\n",
       "    <tr>\n",
       "      <th>2</th>\n",
       "      <td>p3</td>\n",
       "      <td>22</td>\n",
       "    </tr>\n",
       "    <tr>\n",
       "      <th>3</th>\n",
       "      <td>p4</td>\n",
       "      <td>12</td>\n",
       "    </tr>\n",
       "  </tbody>\n",
       "</table>\n",
       "</div>"
      ],
      "text/plain": [
       "  Name  Age\n",
       "0   p1   15\n",
       "1   p2   19\n",
       "2   p3   22\n",
       "3   p4   12"
      ]
     },
     "execution_count": 24,
     "metadata": {},
     "output_type": "execute_result"
    }
   ],
   "source": [
    "pd.read_excel(r\"C:\\Users\\Harendra\\OneDrive - K L University\\Microsoft Copilot Chat Files\\Excel.file.xlsx\",sheet_name= 1)"
   ]
  },
  {
   "cell_type": "code",
   "execution_count": 26,
   "id": "b79be3db-e22c-4264-8481-e4c17ad4c6f2",
   "metadata": {},
   "outputs": [
    {
     "data": {
      "text/html": [
       "<div>\n",
       "<style scoped>\n",
       "    .dataframe tbody tr th:only-of-type {\n",
       "        vertical-align: middle;\n",
       "    }\n",
       "\n",
       "    .dataframe tbody tr th {\n",
       "        vertical-align: top;\n",
       "    }\n",
       "\n",
       "    .dataframe thead th {\n",
       "        text-align: right;\n",
       "    }\n",
       "</style>\n",
       "<table border=\"1\" class=\"dataframe\">\n",
       "  <thead>\n",
       "    <tr style=\"text-align: right;\">\n",
       "      <th></th>\n",
       "      <th>Maths</th>\n",
       "      <th>Hindi</th>\n",
       "    </tr>\n",
       "  </thead>\n",
       "  <tbody>\n",
       "    <tr>\n",
       "      <th>0</th>\n",
       "      <td>12</td>\n",
       "      <td>20</td>\n",
       "    </tr>\n",
       "    <tr>\n",
       "      <th>1</th>\n",
       "      <td>13</td>\n",
       "      <td>21</td>\n",
       "    </tr>\n",
       "    <tr>\n",
       "      <th>2</th>\n",
       "      <td>14</td>\n",
       "      <td>22</td>\n",
       "    </tr>\n",
       "    <tr>\n",
       "      <th>3</th>\n",
       "      <td>15</td>\n",
       "      <td>23</td>\n",
       "    </tr>\n",
       "  </tbody>\n",
       "</table>\n",
       "</div>"
      ],
      "text/plain": [
       "   Maths  Hindi\n",
       "0     12     20\n",
       "1     13     21\n",
       "2     14     22\n",
       "3     15     23"
      ]
     },
     "execution_count": 26,
     "metadata": {},
     "output_type": "execute_result"
    }
   ],
   "source": [
    "pd.read_excel(r\"C:\\Users\\Harendra\\OneDrive - K L University\\Microsoft Copilot Chat Files\\Excel.file.xlsx\",sheet_name= 0)"
   ]
  },
  {
   "cell_type": "code",
   "execution_count": 28,
   "id": "18c1b256-05dc-4683-8fb5-01025a4215d6",
   "metadata": {},
   "outputs": [
    {
     "data": {
      "text/html": [
       "<div>\n",
       "<style scoped>\n",
       "    .dataframe tbody tr th:only-of-type {\n",
       "        vertical-align: middle;\n",
       "    }\n",
       "\n",
       "    .dataframe tbody tr th {\n",
       "        vertical-align: top;\n",
       "    }\n",
       "\n",
       "    .dataframe thead th {\n",
       "        text-align: right;\n",
       "    }\n",
       "</style>\n",
       "<table border=\"1\" class=\"dataframe\">\n",
       "  <thead>\n",
       "    <tr style=\"text-align: right;\">\n",
       "      <th></th>\n",
       "      <th>English</th>\n",
       "      <th>Social</th>\n",
       "    </tr>\n",
       "  </thead>\n",
       "  <tbody>\n",
       "    <tr>\n",
       "      <th>0</th>\n",
       "      <td>31</td>\n",
       "      <td>41</td>\n",
       "    </tr>\n",
       "    <tr>\n",
       "      <th>1</th>\n",
       "      <td>32</td>\n",
       "      <td>42</td>\n",
       "    </tr>\n",
       "    <tr>\n",
       "      <th>2</th>\n",
       "      <td>33</td>\n",
       "      <td>43</td>\n",
       "    </tr>\n",
       "    <tr>\n",
       "      <th>3</th>\n",
       "      <td>43</td>\n",
       "      <td>44</td>\n",
       "    </tr>\n",
       "  </tbody>\n",
       "</table>\n",
       "</div>"
      ],
      "text/plain": [
       "   English  Social\n",
       "0       31      41\n",
       "1       32      42\n",
       "2       33      43\n",
       "3       43      44"
      ]
     },
     "execution_count": 28,
     "metadata": {},
     "output_type": "execute_result"
    }
   ],
   "source": [
    "pd.read_excel(r\"C:\\Users\\Harendra\\OneDrive - K L University\\Microsoft Copilot Chat Files\\Excel.file.xlsx\",sheet_name= 2)"
   ]
  },
  {
   "cell_type": "code",
   "execution_count": 32,
   "id": "76c8fabb-0a1d-4a38-97ee-8eff92fa74e2",
   "metadata": {},
   "outputs": [
    {
     "data": {
      "text/plain": [
       "{1:   Name  Age\n",
       " 0   p1   15\n",
       " 1   p2   19\n",
       " 2   p3   22\n",
       " 3   p4   12,\n",
       " 0:    Maths  Hindi\n",
       " 0     12     20\n",
       " 1     13     21\n",
       " 2     14     22\n",
       " 3     15     23,\n",
       " 2:    English  Social\n",
       " 0       31      41\n",
       " 1       32      42\n",
       " 2       33      43\n",
       " 3       43      44}"
      ]
     },
     "execution_count": 32,
     "metadata": {},
     "output_type": "execute_result"
    }
   ],
   "source": [
    "df = pd.read_excel(r\"C:\\Users\\Harendra\\OneDrive - K L University\\Microsoft Copilot Chat Files\\Excel.file.xlsx\",sheet_name= [1,0,2])\n",
    "df"
   ]
  },
  {
   "cell_type": "code",
   "execution_count": 38,
   "id": "cbec686a-31e8-4cd2-9647-04bba218c793",
   "metadata": {},
   "outputs": [
    {
     "data": {
      "text/html": [
       "<div>\n",
       "<style scoped>\n",
       "    .dataframe tbody tr th:only-of-type {\n",
       "        vertical-align: middle;\n",
       "    }\n",
       "\n",
       "    .dataframe tbody tr th {\n",
       "        vertical-align: top;\n",
       "    }\n",
       "\n",
       "    .dataframe thead th {\n",
       "        text-align: right;\n",
       "    }\n",
       "</style>\n",
       "<table border=\"1\" class=\"dataframe\">\n",
       "  <thead>\n",
       "    <tr style=\"text-align: right;\">\n",
       "      <th></th>\n",
       "      <th>Name</th>\n",
       "      <th>Age</th>\n",
       "    </tr>\n",
       "  </thead>\n",
       "  <tbody>\n",
       "    <tr>\n",
       "      <th>0</th>\n",
       "      <td>p1</td>\n",
       "      <td>15</td>\n",
       "    </tr>\n",
       "    <tr>\n",
       "      <th>1</th>\n",
       "      <td>p2</td>\n",
       "      <td>19</td>\n",
       "    </tr>\n",
       "    <tr>\n",
       "      <th>2</th>\n",
       "      <td>p3</td>\n",
       "      <td>22</td>\n",
       "    </tr>\n",
       "    <tr>\n",
       "      <th>3</th>\n",
       "      <td>p4</td>\n",
       "      <td>12</td>\n",
       "    </tr>\n",
       "  </tbody>\n",
       "</table>\n",
       "</div>"
      ],
      "text/plain": [
       "  Name  Age\n",
       "0   p1   15\n",
       "1   p2   19\n",
       "2   p3   22\n",
       "3   p4   12"
      ]
     },
     "execution_count": 38,
     "metadata": {},
     "output_type": "execute_result"
    }
   ],
   "source": [
    "df[1]"
   ]
  },
  {
   "cell_type": "code",
   "execution_count": 54,
   "id": "137cde3c-6d96-4de8-8587-41e9de276375",
   "metadata": {},
   "outputs": [],
   "source": [
    "df[1].to_excel(r\"C:\\Users\\Harendra\\OneDrive - K L University\\Microsoft Copilot Chat Files\\Excel.file.xlsx\")  ## to_excel at"
   ]
  },
  {
   "cell_type": "code",
   "execution_count": 56,
   "id": "0270595c-ec3f-495b-be75-e6a77278caa5",
   "metadata": {},
   "outputs": [],
   "source": [
    "## we want to save multiple data frame into multiple sheet"
   ]
  },
  {
   "cell_type": "code",
   "execution_count": 58,
   "id": "87f0d857-566b-495a-a1f0-47a57c9412cc",
   "metadata": {},
   "outputs": [],
   "source": [
    "f =  pd.ExcelWriter(r\"C:\\Users\\Harendra\\OneDrive - K L University\\Microsoft Copilot Chat Files\\Excel.file.xlsx\")\n",
    "f.close()"
   ]
  },
  {
   "cell_type": "code",
   "execution_count": 64,
   "id": "9a6357f0-960a-46dc-9f6a-2f025854bcd9",
   "metadata": {},
   "outputs": [],
   "source": [
    "## very import"
   ]
  },
  {
   "cell_type": "code",
   "execution_count": 70,
   "id": "d919a25f-87c2-4022-8262-d49e4f436273",
   "metadata": {},
   "outputs": [],
   "source": [
    "with pd.ExcelWriter(r\"C:\\Users\\Harendra\\OneDrive - K L University\\Microsoft Copilot Chat Files\\Excel.file.xlsx\") as f:\n",
    "    df[1].to_excel(f,sheet_name=\"Sheet2\")\n",
    "    df[0].to_excel(f,sheet_name=\"Sheet1\")\n",
    "    df[2].to_excel(f,sheet_name=\"Sheet3\")"
   ]
  },
  {
   "cell_type": "markdown",
   "id": "ec8e271a-4ffe-432a-b07d-bbc8587151e1",
   "metadata": {},
   "source": [
    "## JSON-(Java Script Object Notation)"
   ]
  },
  {
   "cell_type": "code",
   "execution_count": 75,
   "id": "8753bc02-17a8-4e47-b4d9-84425d07dc30",
   "metadata": {},
   "outputs": [],
   "source": [
    "x = '{\"Name\":[\"p1\",\"p2\"],\"Age\":[23,24]}'"
   ]
  },
  {
   "cell_type": "code",
   "execution_count": 77,
   "id": "6a75690b-4db3-438b-8c7c-24cccb474249",
   "metadata": {},
   "outputs": [
    {
     "name": "stderr",
     "output_type": "stream",
     "text": [
      "C:\\Users\\Harendra\\AppData\\Local\\Temp\\ipykernel_17888\\2533619728.py:1: FutureWarning: Passing literal json to 'read_json' is deprecated and will be removed in a future version. To read from a literal string, wrap it in a 'StringIO' object.\n",
      "  pd.read_json(x)\n"
     ]
    },
    {
     "data": {
      "text/html": [
       "<div>\n",
       "<style scoped>\n",
       "    .dataframe tbody tr th:only-of-type {\n",
       "        vertical-align: middle;\n",
       "    }\n",
       "\n",
       "    .dataframe tbody tr th {\n",
       "        vertical-align: top;\n",
       "    }\n",
       "\n",
       "    .dataframe thead th {\n",
       "        text-align: right;\n",
       "    }\n",
       "</style>\n",
       "<table border=\"1\" class=\"dataframe\">\n",
       "  <thead>\n",
       "    <tr style=\"text-align: right;\">\n",
       "      <th></th>\n",
       "      <th>Name</th>\n",
       "      <th>Age</th>\n",
       "    </tr>\n",
       "  </thead>\n",
       "  <tbody>\n",
       "    <tr>\n",
       "      <th>0</th>\n",
       "      <td>p1</td>\n",
       "      <td>23</td>\n",
       "    </tr>\n",
       "    <tr>\n",
       "      <th>1</th>\n",
       "      <td>p2</td>\n",
       "      <td>24</td>\n",
       "    </tr>\n",
       "  </tbody>\n",
       "</table>\n",
       "</div>"
      ],
      "text/plain": [
       "  Name  Age\n",
       "0   p1   23\n",
       "1   p2   24"
      ]
     },
     "execution_count": 77,
     "metadata": {},
     "output_type": "execute_result"
    }
   ],
   "source": [
    "pd.read_json(x)\n",
    "## can only convert x structured json format into df\n"
   ]
  },
  {
   "cell_type": "code",
   "execution_count": 79,
   "id": "3ea8beaf-1cf7-46df-a3c4-66b2db599b86",
   "metadata": {},
   "outputs": [
    {
     "ename": "SyntaxError",
     "evalue": "invalid syntax (3591449428.py, line 1)",
     "output_type": "error",
     "traceback": [
      "\u001b[1;36m  Cell \u001b[1;32mIn[79], line 1\u001b[1;36m\u001b[0m\n\u001b[1;33m    simple form of Json is\u001b[0m\n\u001b[1;37m           ^\u001b[0m\n\u001b[1;31mSyntaxError\u001b[0m\u001b[1;31m:\u001b[0m invalid syntax\n"
     ]
    }
   ],
   "source": [
    "simple form of Json is\n",
    "\n",
    "    where key -- acting as column names\n",
    "    "
   ]
  },
  {
   "cell_type": "code",
   "execution_count": 87,
   "id": "4c24dcf1-354b-40b3-8aa6-e67e65355de0",
   "metadata": {},
   "outputs": [
    {
     "name": "stderr",
     "output_type": "stream",
     "text": [
      "C:\\Users\\Harendra\\AppData\\Local\\Temp\\ipykernel_17888\\695020713.py:1: FutureWarning: Passing literal json to 'read_json' is deprecated and will be removed in a future version. To read from a literal string, wrap it in a 'StringIO' object.\n",
      "  data = pd.read_json(x)\n"
     ]
    }
   ],
   "source": [
    "data = pd.read_json(x)"
   ]
  },
  {
   "cell_type": "code",
   "execution_count": 111,
   "id": "e6d12a71-8fa5-4cc5-a1fe-f27a61accc2f",
   "metadata": {},
   "outputs": [
    {
     "data": {
      "text/html": [
       "<div>\n",
       "<style scoped>\n",
       "    .dataframe tbody tr th:only-of-type {\n",
       "        vertical-align: middle;\n",
       "    }\n",
       "\n",
       "    .dataframe tbody tr th {\n",
       "        vertical-align: top;\n",
       "    }\n",
       "\n",
       "    .dataframe thead th {\n",
       "        text-align: right;\n",
       "    }\n",
       "</style>\n",
       "<table border=\"1\" class=\"dataframe\">\n",
       "  <thead>\n",
       "    <tr style=\"text-align: right;\">\n",
       "      <th></th>\n",
       "      <th>Name</th>\n",
       "      <th>Age</th>\n",
       "    </tr>\n",
       "  </thead>\n",
       "  <tbody>\n",
       "    <tr>\n",
       "      <th>0</th>\n",
       "      <td>p1</td>\n",
       "      <td>23</td>\n",
       "    </tr>\n",
       "    <tr>\n",
       "      <th>1</th>\n",
       "      <td>p2</td>\n",
       "      <td>24</td>\n",
       "    </tr>\n",
       "  </tbody>\n",
       "</table>\n",
       "</div>"
      ],
      "text/plain": [
       "  Name  Age\n",
       "0   p1   23\n",
       "1   p2   24"
      ]
     },
     "execution_count": 111,
     "metadata": {},
     "output_type": "execute_result"
    }
   ],
   "source": [
    "data"
   ]
  },
  {
   "cell_type": "code",
   "execution_count": 91,
   "id": "c3ac6e59-5fb5-421f-a185-72662ddeff6e",
   "metadata": {},
   "outputs": [],
   "source": [
    "x2 = data.to_json(orient=\"index\")"
   ]
  },
  {
   "cell_type": "code",
   "execution_count": 93,
   "id": "010fd676-0a9c-4891-af00-29958fd26bcc",
   "metadata": {},
   "outputs": [
    {
     "data": {
      "text/plain": [
       "'{\"0\":{\"Name\":\"p1\",\"Age\":23},\"1\":{\"Name\":\"p2\",\"Age\":24}}'"
      ]
     },
     "execution_count": 93,
     "metadata": {},
     "output_type": "execute_result"
    }
   ],
   "source": [
    "x2"
   ]
  },
  {
   "cell_type": "code",
   "execution_count": 95,
   "id": "fcdf7c21-fc94-4bd0-8b8e-8e8330ab3a4b",
   "metadata": {},
   "outputs": [
    {
     "name": "stderr",
     "output_type": "stream",
     "text": [
      "C:\\Users\\Harendra\\AppData\\Local\\Temp\\ipykernel_17888\\1222398037.py:1: FutureWarning: Passing literal json to 'read_json' is deprecated and will be removed in a future version. To read from a literal string, wrap it in a 'StringIO' object.\n",
      "  pd.read_json(x2,orient=\"index\")\n"
     ]
    },
    {
     "data": {
      "text/html": [
       "<div>\n",
       "<style scoped>\n",
       "    .dataframe tbody tr th:only-of-type {\n",
       "        vertical-align: middle;\n",
       "    }\n",
       "\n",
       "    .dataframe tbody tr th {\n",
       "        vertical-align: top;\n",
       "    }\n",
       "\n",
       "    .dataframe thead th {\n",
       "        text-align: right;\n",
       "    }\n",
       "</style>\n",
       "<table border=\"1\" class=\"dataframe\">\n",
       "  <thead>\n",
       "    <tr style=\"text-align: right;\">\n",
       "      <th></th>\n",
       "      <th>Name</th>\n",
       "      <th>Age</th>\n",
       "    </tr>\n",
       "  </thead>\n",
       "  <tbody>\n",
       "    <tr>\n",
       "      <th>0</th>\n",
       "      <td>p1</td>\n",
       "      <td>23</td>\n",
       "    </tr>\n",
       "    <tr>\n",
       "      <th>1</th>\n",
       "      <td>p2</td>\n",
       "      <td>24</td>\n",
       "    </tr>\n",
       "  </tbody>\n",
       "</table>\n",
       "</div>"
      ],
      "text/plain": [
       "  Name  Age\n",
       "0   p1   23\n",
       "1   p2   24"
      ]
     },
     "execution_count": 95,
     "metadata": {},
     "output_type": "execute_result"
    }
   ],
   "source": [
    "pd.read_json(x2,orient=\"index\")"
   ]
  },
  {
   "cell_type": "code",
   "execution_count": 121,
   "id": "0157befb-f0d2-427e-a000-40f1651a0bf4",
   "metadata": {},
   "outputs": [],
   "source": [
    "x3 =data.to_json(orient=\"columns\")"
   ]
  },
  {
   "cell_type": "code",
   "execution_count": 123,
   "id": "1ad94d33-3f50-4055-bd35-25f6baafc12a",
   "metadata": {},
   "outputs": [
    {
     "name": "stderr",
     "output_type": "stream",
     "text": [
      "C:\\Users\\Harendra\\AppData\\Local\\Temp\\ipykernel_17888\\2742886167.py:1: FutureWarning: Passing literal json to 'read_json' is deprecated and will be removed in a future version. To read from a literal string, wrap it in a 'StringIO' object.\n",
      "  pd.read_json(x3,orient=\"columns\")\n"
     ]
    },
    {
     "data": {
      "text/html": [
       "<div>\n",
       "<style scoped>\n",
       "    .dataframe tbody tr th:only-of-type {\n",
       "        vertical-align: middle;\n",
       "    }\n",
       "\n",
       "    .dataframe tbody tr th {\n",
       "        vertical-align: top;\n",
       "    }\n",
       "\n",
       "    .dataframe thead th {\n",
       "        text-align: right;\n",
       "    }\n",
       "</style>\n",
       "<table border=\"1\" class=\"dataframe\">\n",
       "  <thead>\n",
       "    <tr style=\"text-align: right;\">\n",
       "      <th></th>\n",
       "      <th>Name</th>\n",
       "      <th>Age</th>\n",
       "    </tr>\n",
       "  </thead>\n",
       "  <tbody>\n",
       "    <tr>\n",
       "      <th>0</th>\n",
       "      <td>p1</td>\n",
       "      <td>23</td>\n",
       "    </tr>\n",
       "    <tr>\n",
       "      <th>1</th>\n",
       "      <td>p2</td>\n",
       "      <td>24</td>\n",
       "    </tr>\n",
       "  </tbody>\n",
       "</table>\n",
       "</div>"
      ],
      "text/plain": [
       "  Name  Age\n",
       "0   p1   23\n",
       "1   p2   24"
      ]
     },
     "execution_count": 123,
     "metadata": {},
     "output_type": "execute_result"
    }
   ],
   "source": [
    "pd.read_json(x3,orient=\"columns\")"
   ]
  },
  {
   "cell_type": "code",
   "execution_count": 125,
   "id": "52d8c1f8-ac5f-4cb5-802d-202443518ef8",
   "metadata": {},
   "outputs": [
    {
     "name": "stderr",
     "output_type": "stream",
     "text": [
      "C:\\Users\\Harendra\\AppData\\Local\\Temp\\ipykernel_17888\\501614266.py:1: FutureWarning: Passing literal json to 'read_json' is deprecated and will be removed in a future version. To read from a literal string, wrap it in a 'StringIO' object.\n",
      "  pd.read_json(x3,orient=\"index\")\n"
     ]
    },
    {
     "data": {
      "text/html": [
       "<div>\n",
       "<style scoped>\n",
       "    .dataframe tbody tr th:only-of-type {\n",
       "        vertical-align: middle;\n",
       "    }\n",
       "\n",
       "    .dataframe tbody tr th {\n",
       "        vertical-align: top;\n",
       "    }\n",
       "\n",
       "    .dataframe thead th {\n",
       "        text-align: right;\n",
       "    }\n",
       "</style>\n",
       "<table border=\"1\" class=\"dataframe\">\n",
       "  <thead>\n",
       "    <tr style=\"text-align: right;\">\n",
       "      <th></th>\n",
       "      <th>0</th>\n",
       "      <th>1</th>\n",
       "    </tr>\n",
       "  </thead>\n",
       "  <tbody>\n",
       "    <tr>\n",
       "      <th>Name</th>\n",
       "      <td>p1</td>\n",
       "      <td>p2</td>\n",
       "    </tr>\n",
       "    <tr>\n",
       "      <th>Age</th>\n",
       "      <td>23</td>\n",
       "      <td>24</td>\n",
       "    </tr>\n",
       "  </tbody>\n",
       "</table>\n",
       "</div>"
      ],
      "text/plain": [
       "       0   1\n",
       "Name  p1  p2\n",
       "Age   23  24"
      ]
     },
     "execution_count": 125,
     "metadata": {},
     "output_type": "execute_result"
    }
   ],
   "source": [
    "pd.read_json(x3,orient=\"index\")"
   ]
  },
  {
   "cell_type": "code",
   "execution_count": 127,
   "id": "bd42b772-ea91-4c4a-a0c0-6809d0f9e1f9",
   "metadata": {},
   "outputs": [],
   "source": [
    "x4 = data.to_json(orient=\"values\")"
   ]
  },
  {
   "cell_type": "code",
   "execution_count": 129,
   "id": "78b487bb-0d41-4a54-b09f-671b326dad4d",
   "metadata": {},
   "outputs": [
    {
     "data": {
      "text/plain": [
       "'[[\"p1\",23],[\"p2\",24]]'"
      ]
     },
     "execution_count": 129,
     "metadata": {},
     "output_type": "execute_result"
    }
   ],
   "source": [
    "x4"
   ]
  },
  {
   "cell_type": "code",
   "execution_count": 131,
   "id": "7e128df4-57da-43d7-98a9-c3844f5ccddc",
   "metadata": {},
   "outputs": [
    {
     "name": "stderr",
     "output_type": "stream",
     "text": [
      "C:\\Users\\Harendra\\AppData\\Local\\Temp\\ipykernel_17888\\2664431613.py:1: FutureWarning: Passing literal json to 'read_json' is deprecated and will be removed in a future version. To read from a literal string, wrap it in a 'StringIO' object.\n",
      "  pd.read_json(x4,orient=\"values\")\n"
     ]
    },
    {
     "data": {
      "text/html": [
       "<div>\n",
       "<style scoped>\n",
       "    .dataframe tbody tr th:only-of-type {\n",
       "        vertical-align: middle;\n",
       "    }\n",
       "\n",
       "    .dataframe tbody tr th {\n",
       "        vertical-align: top;\n",
       "    }\n",
       "\n",
       "    .dataframe thead th {\n",
       "        text-align: right;\n",
       "    }\n",
       "</style>\n",
       "<table border=\"1\" class=\"dataframe\">\n",
       "  <thead>\n",
       "    <tr style=\"text-align: right;\">\n",
       "      <th></th>\n",
       "      <th>0</th>\n",
       "      <th>1</th>\n",
       "    </tr>\n",
       "  </thead>\n",
       "  <tbody>\n",
       "    <tr>\n",
       "      <th>0</th>\n",
       "      <td>p1</td>\n",
       "      <td>23</td>\n",
       "    </tr>\n",
       "    <tr>\n",
       "      <th>1</th>\n",
       "      <td>p2</td>\n",
       "      <td>24</td>\n",
       "    </tr>\n",
       "  </tbody>\n",
       "</table>\n",
       "</div>"
      ],
      "text/plain": [
       "    0   1\n",
       "0  p1  23\n",
       "1  p2  24"
      ]
     },
     "execution_count": 131,
     "metadata": {},
     "output_type": "execute_result"
    }
   ],
   "source": [
    "pd.read_json(x4,orient=\"values\")"
   ]
  },
  {
   "cell_type": "code",
   "execution_count": 133,
   "id": "f17f5a56-0744-4df6-909a-bee20945d819",
   "metadata": {},
   "outputs": [],
   "source": [
    "x5 = data.to_json(orient=\"split\")"
   ]
  },
  {
   "cell_type": "code",
   "execution_count": 135,
   "id": "8b8e27a0-a60a-4bbf-b9f0-cc2a6a8b46c3",
   "metadata": {},
   "outputs": [
    {
     "data": {
      "text/plain": [
       "'{\"columns\":[\"Name\",\"Age\"],\"index\":[0,1],\"data\":[[\"p1\",23],[\"p2\",24]]}'"
      ]
     },
     "execution_count": 135,
     "metadata": {},
     "output_type": "execute_result"
    }
   ],
   "source": [
    "x5"
   ]
  },
  {
   "cell_type": "markdown",
   "id": "6fc25a28-cd24-4fb0-b02e-fa07fe6958e4",
   "metadata": {},
   "source": [
    "## Semi-Structured json"
   ]
  },
  {
   "cell_type": "code",
   "execution_count": 139,
   "id": "5dc278fb-b7ff-4f5a-bb59-659d1e650c5f",
   "metadata": {},
   "outputs": [],
   "source": [
    "x = {\"Name\":\"p1\",\"Marks\":{\"Maths\":20,\"Hindi\":18}}\n"
   ]
  },
  {
   "cell_type": "code",
   "execution_count": 145,
   "id": "8ca872f0-ac9e-465f-92f5-6c2db4f75f82",
   "metadata": {},
   "outputs": [
    {
     "data": {
      "text/html": [
       "<div>\n",
       "<style scoped>\n",
       "    .dataframe tbody tr th:only-of-type {\n",
       "        vertical-align: middle;\n",
       "    }\n",
       "\n",
       "    .dataframe tbody tr th {\n",
       "        vertical-align: top;\n",
       "    }\n",
       "\n",
       "    .dataframe thead th {\n",
       "        text-align: right;\n",
       "    }\n",
       "</style>\n",
       "<table border=\"1\" class=\"dataframe\">\n",
       "  <thead>\n",
       "    <tr style=\"text-align: right;\">\n",
       "      <th></th>\n",
       "      <th>Name</th>\n",
       "      <th>Marks.Maths</th>\n",
       "      <th>Marks.Hindi</th>\n",
       "    </tr>\n",
       "  </thead>\n",
       "  <tbody>\n",
       "    <tr>\n",
       "      <th>0</th>\n",
       "      <td>p1</td>\n",
       "      <td>20</td>\n",
       "      <td>18</td>\n",
       "    </tr>\n",
       "  </tbody>\n",
       "</table>\n",
       "</div>"
      ],
      "text/plain": [
       "  Name  Marks.Maths  Marks.Hindi\n",
       "0   p1           20           18"
      ]
     },
     "execution_count": 145,
     "metadata": {},
     "output_type": "execute_result"
    }
   ],
   "source": [
    "pd.json_normalize(x)"
   ]
  },
  {
   "cell_type": "code",
   "execution_count": 147,
   "id": "77d65ce0-82d7-4ff5-a222-0d69bbd9fbbb",
   "metadata": {},
   "outputs": [
    {
     "data": {
      "text/html": [
       "<div>\n",
       "<style scoped>\n",
       "    .dataframe tbody tr th:only-of-type {\n",
       "        vertical-align: middle;\n",
       "    }\n",
       "\n",
       "    .dataframe tbody tr th {\n",
       "        vertical-align: top;\n",
       "    }\n",
       "\n",
       "    .dataframe thead th {\n",
       "        text-align: right;\n",
       "    }\n",
       "</style>\n",
       "<table border=\"1\" class=\"dataframe\">\n",
       "  <thead>\n",
       "    <tr style=\"text-align: right;\">\n",
       "      <th></th>\n",
       "      <th>Name</th>\n",
       "      <th>Marks</th>\n",
       "    </tr>\n",
       "  </thead>\n",
       "  <tbody>\n",
       "    <tr>\n",
       "      <th>0</th>\n",
       "      <td>p1</td>\n",
       "      <td>{'Maths': 20, 'Hindi': 18}</td>\n",
       "    </tr>\n",
       "  </tbody>\n",
       "</table>\n",
       "</div>"
      ],
      "text/plain": [
       "  Name                       Marks\n",
       "0   p1  {'Maths': 20, 'Hindi': 18}"
      ]
     },
     "execution_count": 147,
     "metadata": {},
     "output_type": "execute_result"
    }
   ],
   "source": [
    "pd.json_normalize(x,max_level=0)"
   ]
  },
  {
   "cell_type": "code",
   "execution_count": 149,
   "id": "4c81b647-0f21-4985-8a46-b6731ca45537",
   "metadata": {},
   "outputs": [
    {
     "data": {
      "text/plain": [
       "dict_keys(['Name', 'Marks'])"
      ]
     },
     "execution_count": 149,
     "metadata": {},
     "output_type": "execute_result"
    }
   ],
   "source": [
    "x.keys()"
   ]
  },
  {
   "cell_type": "code",
   "execution_count": 151,
   "id": "1464b0e7-08f4-4b9f-ac78-4feb227f2176",
   "metadata": {},
   "outputs": [
    {
     "data": {
      "text/plain": [
       "dict_values(['p1', {'Maths': 20, 'Hindi': 18}])"
      ]
     },
     "execution_count": 151,
     "metadata": {},
     "output_type": "execute_result"
    }
   ],
   "source": [
    "x.values()"
   ]
  },
  {
   "cell_type": "code",
   "execution_count": 153,
   "id": "abd6740b-8290-4cb0-a71f-4ce31250e3c6",
   "metadata": {},
   "outputs": [
    {
     "data": {
      "text/plain": [
       "dict_keys(['Maths', 'Hindi'])"
      ]
     },
     "execution_count": 153,
     "metadata": {},
     "output_type": "execute_result"
    }
   ],
   "source": [
    "x[\"Marks\"].keys()"
   ]
  },
  {
   "cell_type": "code",
   "execution_count": 155,
   "id": "338a619c-9a9d-466b-bf86-770fe8536824",
   "metadata": {},
   "outputs": [],
   "source": [
    "x = {\"Name\":\"p1\",\"Marks\":{\"Sem1\":{\"Maths\":20,\"Hindi\":18},\"Sem2\":{\"Maths\":23,\"Hindi\":0}}}\n"
   ]
  },
  {
   "cell_type": "code",
   "execution_count": 157,
   "id": "ff881ca9-811c-4fce-9ec8-27730bbfb015",
   "metadata": {},
   "outputs": [
    {
     "data": {
      "text/html": [
       "<div>\n",
       "<style scoped>\n",
       "    .dataframe tbody tr th:only-of-type {\n",
       "        vertical-align: middle;\n",
       "    }\n",
       "\n",
       "    .dataframe tbody tr th {\n",
       "        vertical-align: top;\n",
       "    }\n",
       "\n",
       "    .dataframe thead th {\n",
       "        text-align: right;\n",
       "    }\n",
       "</style>\n",
       "<table border=\"1\" class=\"dataframe\">\n",
       "  <thead>\n",
       "    <tr style=\"text-align: right;\">\n",
       "      <th></th>\n",
       "      <th>Name</th>\n",
       "      <th>Marks.Sem1.Maths</th>\n",
       "      <th>Marks.Sem1.Hindi</th>\n",
       "      <th>Marks.Sem2.Maths</th>\n",
       "      <th>Marks.Sem2.Hindi</th>\n",
       "    </tr>\n",
       "  </thead>\n",
       "  <tbody>\n",
       "    <tr>\n",
       "      <th>0</th>\n",
       "      <td>p1</td>\n",
       "      <td>20</td>\n",
       "      <td>18</td>\n",
       "      <td>23</td>\n",
       "      <td>0</td>\n",
       "    </tr>\n",
       "  </tbody>\n",
       "</table>\n",
       "</div>"
      ],
      "text/plain": [
       "  Name  Marks.Sem1.Maths  Marks.Sem1.Hindi  Marks.Sem2.Maths  Marks.Sem2.Hindi\n",
       "0   p1                20                18                23                 0"
      ]
     },
     "execution_count": 157,
     "metadata": {},
     "output_type": "execute_result"
    }
   ],
   "source": [
    "pd.json_normalize(x)"
   ]
  },
  {
   "cell_type": "code",
   "execution_count": 169,
   "id": "72058bb8-1969-4239-ac6a-ee4c2c46c62e",
   "metadata": {},
   "outputs": [
    {
     "data": {
      "text/html": [
       "<div>\n",
       "<style scoped>\n",
       "    .dataframe tbody tr th:only-of-type {\n",
       "        vertical-align: middle;\n",
       "    }\n",
       "\n",
       "    .dataframe tbody tr th {\n",
       "        vertical-align: top;\n",
       "    }\n",
       "\n",
       "    .dataframe thead th {\n",
       "        text-align: right;\n",
       "    }\n",
       "</style>\n",
       "<table border=\"1\" class=\"dataframe\">\n",
       "  <thead>\n",
       "    <tr style=\"text-align: right;\">\n",
       "      <th></th>\n",
       "      <th>Name</th>\n",
       "      <th>Marks.Sem1</th>\n",
       "      <th>Marks.Sem2</th>\n",
       "    </tr>\n",
       "  </thead>\n",
       "  <tbody>\n",
       "    <tr>\n",
       "      <th>0</th>\n",
       "      <td>p1</td>\n",
       "      <td>{'Maths': 20, 'Hindi': 18}</td>\n",
       "      <td>{'Maths': 23, 'Hindi': 0}</td>\n",
       "    </tr>\n",
       "  </tbody>\n",
       "</table>\n",
       "</div>"
      ],
      "text/plain": [
       "  Name                  Marks.Sem1                 Marks.Sem2\n",
       "0   p1  {'Maths': 20, 'Hindi': 18}  {'Maths': 23, 'Hindi': 0}"
      ]
     },
     "execution_count": 169,
     "metadata": {},
     "output_type": "execute_result"
    }
   ],
   "source": [
    "pd.json_normalize(x,max_level=1)"
   ]
  },
  {
   "cell_type": "code",
   "execution_count": 171,
   "id": "4769807e-4a96-4a6f-920f-bee98d81c697",
   "metadata": {},
   "outputs": [
    {
     "data": {
      "text/plain": [
       "dict_keys(['Name', 'Marks'])"
      ]
     },
     "execution_count": 171,
     "metadata": {},
     "output_type": "execute_result"
    }
   ],
   "source": [
    "x.keys()"
   ]
  },
  {
   "cell_type": "code",
   "execution_count": 173,
   "id": "dd763c0e-68ec-48e7-83ee-7b483506d7f7",
   "metadata": {},
   "outputs": [
    {
     "data": {
      "text/plain": [
       "dict_keys(['Sem1', 'Sem2'])"
      ]
     },
     "execution_count": 173,
     "metadata": {},
     "output_type": "execute_result"
    }
   ],
   "source": [
    "x[\"Marks\"].keys()"
   ]
  },
  {
   "cell_type": "code",
   "execution_count": 183,
   "id": "ba1dfe82-4b51-4dd4-b664-ac3d4e5b9a6d",
   "metadata": {},
   "outputs": [],
   "source": [
    "x = {\"Name\":\"p1\",\"Marks\":[{\"Sem1\":20,\"Sem2\":30}],\"Age\":39}\n",
    "## most occuring format of semi structured data"
   ]
  },
  {
   "cell_type": "code",
   "execution_count": 185,
   "id": "b0d242f9-3391-4bdc-8988-d36490fde592",
   "metadata": {},
   "outputs": [
    {
     "data": {
      "text/html": [
       "<div>\n",
       "<style scoped>\n",
       "    .dataframe tbody tr th:only-of-type {\n",
       "        vertical-align: middle;\n",
       "    }\n",
       "\n",
       "    .dataframe tbody tr th {\n",
       "        vertical-align: top;\n",
       "    }\n",
       "\n",
       "    .dataframe thead th {\n",
       "        text-align: right;\n",
       "    }\n",
       "</style>\n",
       "<table border=\"1\" class=\"dataframe\">\n",
       "  <thead>\n",
       "    <tr style=\"text-align: right;\">\n",
       "      <th></th>\n",
       "      <th>Sem1</th>\n",
       "      <th>Sem2</th>\n",
       "      <th>Name</th>\n",
       "      <th>Age</th>\n",
       "    </tr>\n",
       "  </thead>\n",
       "  <tbody>\n",
       "    <tr>\n",
       "      <th>0</th>\n",
       "      <td>20</td>\n",
       "      <td>30</td>\n",
       "      <td>p1</td>\n",
       "      <td>39</td>\n",
       "    </tr>\n",
       "  </tbody>\n",
       "</table>\n",
       "</div>"
      ],
      "text/plain": [
       "   Sem1  Sem2 Name Age\n",
       "0    20    30   p1  39"
      ]
     },
     "execution_count": 185,
     "metadata": {},
     "output_type": "execute_result"
    }
   ],
   "source": [
    "## record path is only used when the values are in list of dict\n",
    "pd.json_normalize(x,record_path=[\"Marks\"],meta=[\"Name\",\"Age\"])"
   ]
  },
  {
   "cell_type": "code",
   "execution_count": 191,
   "id": "48b78c2b-5a82-4b1d-8b7c-5baa8e2c201a",
   "metadata": {},
   "outputs": [],
   "source": [
    "x = {\"Name\":{\"p1\":12},\"Marks\":[{\"Sem1\":20,\"Sem2\":30}],\"Age\":{\"a\":{\"b\":1}}}"
   ]
  },
  {
   "cell_type": "code",
   "execution_count": 197,
   "id": "99d9a5ba-acc3-4e5c-bf2f-0e37a19937ea",
   "metadata": {},
   "outputs": [
    {
     "data": {
      "text/html": [
       "<div>\n",
       "<style scoped>\n",
       "    .dataframe tbody tr th:only-of-type {\n",
       "        vertical-align: middle;\n",
       "    }\n",
       "\n",
       "    .dataframe tbody tr th {\n",
       "        vertical-align: top;\n",
       "    }\n",
       "\n",
       "    .dataframe thead th {\n",
       "        text-align: right;\n",
       "    }\n",
       "</style>\n",
       "<table border=\"1\" class=\"dataframe\">\n",
       "  <thead>\n",
       "    <tr style=\"text-align: right;\">\n",
       "      <th></th>\n",
       "      <th>Sem1</th>\n",
       "      <th>Sem2</th>\n",
       "      <th>Age.a.b</th>\n",
       "    </tr>\n",
       "  </thead>\n",
       "  <tbody>\n",
       "    <tr>\n",
       "      <th>0</th>\n",
       "      <td>20</td>\n",
       "      <td>30</td>\n",
       "      <td>1</td>\n",
       "    </tr>\n",
       "  </tbody>\n",
       "</table>\n",
       "</div>"
      ],
      "text/plain": [
       "   Sem1  Sem2 Age.a.b\n",
       "0    20    30       1"
      ]
     },
     "execution_count": 197,
     "metadata": {},
     "output_type": "execute_result"
    }
   ],
   "source": [
    "pd.json_normalize(x,record_path=[\"Marks\"],meta=[[\"Age\",\"a\",\"b\"]])"
   ]
  },
  {
   "cell_type": "code",
   "execution_count": null,
   "id": "757e2033-1f52-42e5-90f7-230217fc22b1",
   "metadata": {},
   "outputs": [],
   "source": []
  }
 ],
 "metadata": {
  "kernelspec": {
   "display_name": "Python 3 (ipykernel)",
   "language": "python",
   "name": "python3"
  },
  "language_info": {
   "codemirror_mode": {
    "name": "ipython",
    "version": 3
   },
   "file_extension": ".py",
   "mimetype": "text/x-python",
   "name": "python",
   "nbconvert_exporter": "python",
   "pygments_lexer": "ipython3",
   "version": "3.12.4"
  }
 },
 "nbformat": 4,
 "nbformat_minor": 5
}
